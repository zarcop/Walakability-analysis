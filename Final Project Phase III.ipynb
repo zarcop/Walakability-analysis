{
 "cells": [
  {
   "cell_type": "markdown",
   "metadata": {
    "id": "GJ4Xt1uf1LT7"
   },
   "source": [
    "# Final Project Phase 3 Summary\n",
    "This Jupyter Notebook (.ipynb) will serve as the skeleton file for your submission for Phase 3 of the Final Project. Complete all sections below as specified in the instructions for the project, covering all necessary details. We will use this to grade your individual code (Do this whether you are in a group or not). Good luck! <br><br>\n",
    "\n",
    "Note: To edit a Markdown cell, double-click on its text."
   ]
  },
  {
   "cell_type": "markdown",
   "metadata": {
    "id": "JEtNzYHagmon"
   },
   "source": []
  },
  {
   "cell_type": "markdown",
   "metadata": {
    "id": "tjB_SbWY1LUB"
   },
   "source": [
    "## Jupyter Notebook Quick Tips\n",
    "Here are some quick formatting tips to get you started with Jupyter Notebooks. This is by no means exhaustive, and there are plenty of articles to highlight other things that can be done. We recommend using HTML syntax for Markdown but there is also Markdown syntax that is more streamlined and might be preferable. \n",
    "<a href = \"https://towardsdatascience.com/markdown-cells-jupyter-notebook-d3bea8416671\">Here's an article</a> that goes into more detail. (Double-click on cell to see syntax)\n",
    "\n",
    "# Heading 1\n",
    "## Heading 2\n",
    "### Heading 3\n",
    "#### Heading 4\n",
    "<br>\n",
    "<b>BoldText</b> or <i>ItalicText</i>\n",
    "<br> <br>\n",
    "Math Formulas: $x^2 + y^2 = 1$\n",
    "<br> <br>\n",
    "Line Breaks are done using br enclosed in < >.\n",
    "<br><br>\n",
    "Hyperlinks are done with: <a> https://www.google.com </a> or \n",
    "<a href=\"http://www.google.com\">Google</a><br>"
   ]
  },
  {
   "cell_type": "markdown",
   "metadata": {},
   "source": [
    "# Video Presentation\n",
    "\n",
    "If you uploaded your Video Presentation to Bluejeans, YouTube, or any other streaming services, please provide the link here:\n",
    "\n",
    "\n",
    "*   Video Presentation Link: https://youtu.be/ACNXLxHzcqQ\n",
    "\n",
    "\n",
    "Make sure the video sharing permissions are accessible for anyone with the provided link."
   ]
  },
  {
   "cell_type": "markdown",
   "metadata": {
    "id": "tb9oVjpRDswQ"
   },
   "source": [
    "# Data Collection and Cleaning\n",
    "\n",
    "\n",
    "Transfer/update the data collection and cleaning you created for Phase II below. You may include additional cleaning functions if you have extra datasets. If no changes are necessary, simply copy and paste your phase II parsing/cleaning functions.\n"
   ]
  },
  {
   "cell_type": "markdown",
   "metadata": {
    "id": "9mRjxZDbE1tj"
   },
   "source": [
    "## Downloaded Dataset Requirement\n",
    "\n"
   ]
  },
  {
   "cell_type": "code",
   "execution_count": 1,
   "metadata": {},
   "outputs": [
    {
     "data": {
      "text/html": [
       "<div>\n",
       "<style scoped>\n",
       "    .dataframe tbody tr th:only-of-type {\n",
       "        vertical-align: middle;\n",
       "    }\n",
       "\n",
       "    .dataframe tbody tr th {\n",
       "        vertical-align: top;\n",
       "    }\n",
       "\n",
       "    .dataframe thead th {\n",
       "        text-align: right;\n",
       "    }\n",
       "</style>\n",
       "<table border=\"1\" class=\"dataframe\">\n",
       "  <thead>\n",
       "    <tr style=\"text-align: right;\">\n",
       "      <th></th>\n",
       "      <th>Core Base Stastical Area</th>\n",
       "      <th>Total Population</th>\n",
       "      <th>Total Employment</th>\n",
       "      <th>National Walkability Index</th>\n",
       "      <th>Total Area(acres)</th>\n",
       "      <th>Number of Households</th>\n",
       "      <th>Percentage of Working Population</th>\n",
       "      <th>Percent of Household with Zero Automobiles</th>\n",
       "      <th>Percent of Househods with One Automobile</th>\n",
       "      <th>Percent of Households with two or more cars</th>\n",
       "      <th>Percent of Low Wage Workers</th>\n",
       "      <th>Total Network Density</th>\n",
       "      <th>Frequency of Transit Service per square mile</th>\n",
       "      <th>Frequency of transit service per capita</th>\n",
       "      <th>Jobs within 45 minutes auto travel time</th>\n",
       "      <th>Working age population within 45 minutes auto travel time</th>\n",
       "      <th>Jobs within 45 minutes transit commute</th>\n",
       "      <th>Working age population within 45-minute transit commute</th>\n",
       "    </tr>\n",
       "    <tr>\n",
       "      <th>Location ID</th>\n",
       "      <th></th>\n",
       "      <th></th>\n",
       "      <th></th>\n",
       "      <th></th>\n",
       "      <th></th>\n",
       "      <th></th>\n",
       "      <th></th>\n",
       "      <th></th>\n",
       "      <th></th>\n",
       "      <th></th>\n",
       "      <th></th>\n",
       "      <th></th>\n",
       "      <th></th>\n",
       "      <th></th>\n",
       "      <th></th>\n",
       "      <th></th>\n",
       "      <th></th>\n",
       "      <th></th>\n",
       "    </tr>\n",
       "  </thead>\n",
       "  <tbody>\n",
       "    <tr>\n",
       "      <th>31080</th>\n",
       "      <td>Los Angeles-Long Beach-Anaheim, CA</td>\n",
       "      <td>13262234</td>\n",
       "      <td>6249699</td>\n",
       "      <td>13.48</td>\n",
       "      <td>3647355</td>\n",
       "      <td>4338482</td>\n",
       "      <td>0.62</td>\n",
       "      <td>0.07</td>\n",
       "      <td>0.30</td>\n",
       "      <td>0.62</td>\n",
       "      <td>0.23</td>\n",
       "      <td>24.75</td>\n",
       "      <td>90.68</td>\n",
       "      <td>0.01</td>\n",
       "      <td>2481115450</td>\n",
       "      <td>2182630214</td>\n",
       "      <td>1841994646</td>\n",
       "      <td>1349784300</td>\n",
       "    </tr>\n",
       "    <tr>\n",
       "      <th>41940</th>\n",
       "      <td>San Jose-Sunnyvale-Santa Clara, CA</td>\n",
       "      <td>1981616</td>\n",
       "      <td>1077279</td>\n",
       "      <td>13.44</td>\n",
       "      <td>1724460</td>\n",
       "      <td>653265</td>\n",
       "      <td>0.62</td>\n",
       "      <td>0.05</td>\n",
       "      <td>0.25</td>\n",
       "      <td>0.71</td>\n",
       "      <td>0.16</td>\n",
       "      <td>24.44</td>\n",
       "      <td>38.83</td>\n",
       "      <td>0.01</td>\n",
       "      <td>123977256</td>\n",
       "      <td>110020600</td>\n",
       "      <td>108046518</td>\n",
       "      <td>92036709</td>\n",
       "    </tr>\n",
       "    <tr>\n",
       "      <th>41860</th>\n",
       "      <td>San Francisco-Oakland-Berkeley, CA</td>\n",
       "      <td>4673221</td>\n",
       "      <td>2400290</td>\n",
       "      <td>13.14</td>\n",
       "      <td>2192692</td>\n",
       "      <td>1692047</td>\n",
       "      <td>0.63</td>\n",
       "      <td>0.11</td>\n",
       "      <td>0.32</td>\n",
       "      <td>0.57</td>\n",
       "      <td>0.17</td>\n",
       "      <td>25.10</td>\n",
       "      <td>203.92</td>\n",
       "      <td>0.01</td>\n",
       "      <td>338100994</td>\n",
       "      <td>278699035</td>\n",
       "      <td>542382083</td>\n",
       "      <td>322112055</td>\n",
       "    </tr>\n",
       "    <tr>\n",
       "      <th>41620</th>\n",
       "      <td>Salt Lake City, UT</td>\n",
       "      <td>1185990</td>\n",
       "      <td>689888</td>\n",
       "      <td>13.13</td>\n",
       "      <td>5178592</td>\n",
       "      <td>389330</td>\n",
       "      <td>0.61</td>\n",
       "      <td>0.05</td>\n",
       "      <td>0.27</td>\n",
       "      <td>0.68</td>\n",
       "      <td>0.25</td>\n",
       "      <td>19.82</td>\n",
       "      <td>29.75</td>\n",
       "      <td>0.00</td>\n",
       "      <td>59376545</td>\n",
       "      <td>48445666</td>\n",
       "      <td>47440346</td>\n",
       "      <td>29335032</td>\n",
       "    </tr>\n",
       "    <tr>\n",
       "      <th>38900</th>\n",
       "      <td>Portland-Vancouver-Hillsboro, OR-WA</td>\n",
       "      <td>2417931</td>\n",
       "      <td>1165042</td>\n",
       "      <td>12.75</td>\n",
       "      <td>4367486</td>\n",
       "      <td>925631</td>\n",
       "      <td>0.63</td>\n",
       "      <td>0.07</td>\n",
       "      <td>0.31</td>\n",
       "      <td>0.62</td>\n",
       "      <td>0.19</td>\n",
       "      <td>19.73</td>\n",
       "      <td>59.85</td>\n",
       "      <td>0.01</td>\n",
       "      <td>86732917</td>\n",
       "      <td>69826217</td>\n",
       "      <td>88022223</td>\n",
       "      <td>57456252</td>\n",
       "    </tr>\n",
       "    <tr>\n",
       "      <th>...</th>\n",
       "      <td>...</td>\n",
       "      <td>...</td>\n",
       "      <td>...</td>\n",
       "      <td>...</td>\n",
       "      <td>...</td>\n",
       "      <td>...</td>\n",
       "      <td>...</td>\n",
       "      <td>...</td>\n",
       "      <td>...</td>\n",
       "      <td>...</td>\n",
       "      <td>...</td>\n",
       "      <td>...</td>\n",
       "      <td>...</td>\n",
       "      <td>...</td>\n",
       "      <td>...</td>\n",
       "      <td>...</td>\n",
       "      <td>...</td>\n",
       "      <td>...</td>\n",
       "    </tr>\n",
       "    <tr>\n",
       "      <th>28940</th>\n",
       "      <td>Knoxville, TN</td>\n",
       "      <td>845486</td>\n",
       "      <td>386588</td>\n",
       "      <td>7.07</td>\n",
       "      <td>2142299</td>\n",
       "      <td>335953</td>\n",
       "      <td>0.59</td>\n",
       "      <td>0.06</td>\n",
       "      <td>0.30</td>\n",
       "      <td>0.63</td>\n",
       "      <td>0.24</td>\n",
       "      <td>10.08</td>\n",
       "      <td>10.32</td>\n",
       "      <td>0.00</td>\n",
       "      <td>19360804</td>\n",
       "      <td>15138097</td>\n",
       "      <td>4582430</td>\n",
       "      <td>2269960</td>\n",
       "    </tr>\n",
       "    <tr>\n",
       "      <th>12940</th>\n",
       "      <td>Baton Rouge, LA</td>\n",
       "      <td>852356</td>\n",
       "      <td>403005</td>\n",
       "      <td>6.43</td>\n",
       "      <td>2923249</td>\n",
       "      <td>310265</td>\n",
       "      <td>0.60</td>\n",
       "      <td>0.08</td>\n",
       "      <td>0.37</td>\n",
       "      <td>0.55</td>\n",
       "      <td>0.25</td>\n",
       "      <td>11.27</td>\n",
       "      <td>0.00</td>\n",
       "      <td>0.00</td>\n",
       "      <td>27497651</td>\n",
       "      <td>19792938</td>\n",
       "      <td>0</td>\n",
       "      <td>0</td>\n",
       "    </tr>\n",
       "    <tr>\n",
       "      <th>49180</th>\n",
       "      <td>Winston-Salem, NC</td>\n",
       "      <td>661798</td>\n",
       "      <td>263863</td>\n",
       "      <td>6.43</td>\n",
       "      <td>1305606</td>\n",
       "      <td>262905</td>\n",
       "      <td>0.59</td>\n",
       "      <td>0.07</td>\n",
       "      <td>0.32</td>\n",
       "      <td>0.61</td>\n",
       "      <td>0.25</td>\n",
       "      <td>9.68</td>\n",
       "      <td>0.35</td>\n",
       "      <td>0.00</td>\n",
       "      <td>15145548</td>\n",
       "      <td>12388867</td>\n",
       "      <td>266980</td>\n",
       "      <td>49732</td>\n",
       "    </tr>\n",
       "    <tr>\n",
       "      <th>12260</th>\n",
       "      <td>Augusta-Richmond County, GA-SC</td>\n",
       "      <td>594300</td>\n",
       "      <td>215505</td>\n",
       "      <td>6.40</td>\n",
       "      <td>2292480</td>\n",
       "      <td>214489</td>\n",
       "      <td>0.59</td>\n",
       "      <td>0.08</td>\n",
       "      <td>0.34</td>\n",
       "      <td>0.56</td>\n",
       "      <td>0.27</td>\n",
       "      <td>10.70</td>\n",
       "      <td>0.00</td>\n",
       "      <td>0.00</td>\n",
       "      <td>8387190</td>\n",
       "      <td>7242278</td>\n",
       "      <td>0</td>\n",
       "      <td>0</td>\n",
       "    </tr>\n",
       "    <tr>\n",
       "      <th>41980</th>\n",
       "      <td>San Juan-Bayamón-Caguas, PR</td>\n",
       "      <td>2142392</td>\n",
       "      <td>0</td>\n",
       "      <td>4.95</td>\n",
       "      <td>1280706</td>\n",
       "      <td>767520</td>\n",
       "      <td>0.57</td>\n",
       "      <td>0.18</td>\n",
       "      <td>0.41</td>\n",
       "      <td>0.39</td>\n",
       "      <td>0.00</td>\n",
       "      <td>20.59</td>\n",
       "      <td>0.00</td>\n",
       "      <td>0.00</td>\n",
       "      <td>0</td>\n",
       "      <td>0</td>\n",
       "      <td>0</td>\n",
       "      <td>0</td>\n",
       "    </tr>\n",
       "  </tbody>\n",
       "</table>\n",
       "<p>97 rows × 18 columns</p>\n",
       "</div>"
      ],
      "text/plain": [
       "                        Core Base Stastical Area  Total Population  \\\n",
       "Location ID                                                          \n",
       "31080         Los Angeles-Long Beach-Anaheim, CA          13262234   \n",
       "41940         San Jose-Sunnyvale-Santa Clara, CA           1981616   \n",
       "41860         San Francisco-Oakland-Berkeley, CA           4673221   \n",
       "41620                         Salt Lake City, UT           1185990   \n",
       "38900        Portland-Vancouver-Hillsboro, OR-WA           2417931   \n",
       "...                                          ...               ...   \n",
       "28940                              Knoxville, TN            845486   \n",
       "12940                            Baton Rouge, LA            852356   \n",
       "49180                          Winston-Salem, NC            661798   \n",
       "12260             Augusta-Richmond County, GA-SC            594300   \n",
       "41980                San Juan-Bayamón-Caguas, PR           2142392   \n",
       "\n",
       "             Total Employment  National Walkability Index  Total Area(acres)  \\\n",
       "Location ID                                                                    \n",
       "31080                 6249699                       13.48            3647355   \n",
       "41940                 1077279                       13.44            1724460   \n",
       "41860                 2400290                       13.14            2192692   \n",
       "41620                  689888                       13.13            5178592   \n",
       "38900                 1165042                       12.75            4367486   \n",
       "...                       ...                         ...                ...   \n",
       "28940                  386588                        7.07            2142299   \n",
       "12940                  403005                        6.43            2923249   \n",
       "49180                  263863                        6.43            1305606   \n",
       "12260                  215505                        6.40            2292480   \n",
       "41980                       0                        4.95            1280706   \n",
       "\n",
       "             Number of Households  Percentage of Working Population  \\\n",
       "Location ID                                                           \n",
       "31080                     4338482                              0.62   \n",
       "41940                      653265                              0.62   \n",
       "41860                     1692047                              0.63   \n",
       "41620                      389330                              0.61   \n",
       "38900                      925631                              0.63   \n",
       "...                           ...                               ...   \n",
       "28940                      335953                              0.59   \n",
       "12940                      310265                              0.60   \n",
       "49180                      262905                              0.59   \n",
       "12260                      214489                              0.59   \n",
       "41980                      767520                              0.57   \n",
       "\n",
       "             Percent of Household with Zero Automobiles  \\\n",
       "Location ID                                               \n",
       "31080                                              0.07   \n",
       "41940                                              0.05   \n",
       "41860                                              0.11   \n",
       "41620                                              0.05   \n",
       "38900                                              0.07   \n",
       "...                                                 ...   \n",
       "28940                                              0.06   \n",
       "12940                                              0.08   \n",
       "49180                                              0.07   \n",
       "12260                                              0.08   \n",
       "41980                                              0.18   \n",
       "\n",
       "             Percent of Househods with One Automobile  \\\n",
       "Location ID                                             \n",
       "31080                                            0.30   \n",
       "41940                                            0.25   \n",
       "41860                                            0.32   \n",
       "41620                                            0.27   \n",
       "38900                                            0.31   \n",
       "...                                               ...   \n",
       "28940                                            0.30   \n",
       "12940                                            0.37   \n",
       "49180                                            0.32   \n",
       "12260                                            0.34   \n",
       "41980                                            0.41   \n",
       "\n",
       "             Percent of Households with two or more cars  \\\n",
       "Location ID                                                \n",
       "31080                                               0.62   \n",
       "41940                                               0.71   \n",
       "41860                                               0.57   \n",
       "41620                                               0.68   \n",
       "38900                                               0.62   \n",
       "...                                                  ...   \n",
       "28940                                               0.63   \n",
       "12940                                               0.55   \n",
       "49180                                               0.61   \n",
       "12260                                               0.56   \n",
       "41980                                               0.39   \n",
       "\n",
       "             Percent of Low Wage Workers  Total Network Density  \\\n",
       "Location ID                                                       \n",
       "31080                               0.23                  24.75   \n",
       "41940                               0.16                  24.44   \n",
       "41860                               0.17                  25.10   \n",
       "41620                               0.25                  19.82   \n",
       "38900                               0.19                  19.73   \n",
       "...                                  ...                    ...   \n",
       "28940                               0.24                  10.08   \n",
       "12940                               0.25                  11.27   \n",
       "49180                               0.25                   9.68   \n",
       "12260                               0.27                  10.70   \n",
       "41980                               0.00                  20.59   \n",
       "\n",
       "             Frequency of Transit Service per square mile  \\\n",
       "Location ID                                                 \n",
       "31080                                               90.68   \n",
       "41940                                               38.83   \n",
       "41860                                              203.92   \n",
       "41620                                               29.75   \n",
       "38900                                               59.85   \n",
       "...                                                   ...   \n",
       "28940                                               10.32   \n",
       "12940                                                0.00   \n",
       "49180                                                0.35   \n",
       "12260                                                0.00   \n",
       "41980                                                0.00   \n",
       "\n",
       "             Frequency of transit service per capita  \\\n",
       "Location ID                                            \n",
       "31080                                           0.01   \n",
       "41940                                           0.01   \n",
       "41860                                           0.01   \n",
       "41620                                           0.00   \n",
       "38900                                           0.01   \n",
       "...                                              ...   \n",
       "28940                                           0.00   \n",
       "12940                                           0.00   \n",
       "49180                                           0.00   \n",
       "12260                                           0.00   \n",
       "41980                                           0.00   \n",
       "\n",
       "             Jobs within 45 minutes auto travel time  \\\n",
       "Location ID                                            \n",
       "31080                                     2481115450   \n",
       "41940                                      123977256   \n",
       "41860                                      338100994   \n",
       "41620                                       59376545   \n",
       "38900                                       86732917   \n",
       "...                                              ...   \n",
       "28940                                       19360804   \n",
       "12940                                       27497651   \n",
       "49180                                       15145548   \n",
       "12260                                        8387190   \n",
       "41980                                              0   \n",
       "\n",
       "             Working age population within 45 minutes auto travel time  \\\n",
       "Location ID                                                              \n",
       "31080                                               2182630214           \n",
       "41940                                                110020600           \n",
       "41860                                                278699035           \n",
       "41620                                                 48445666           \n",
       "38900                                                 69826217           \n",
       "...                                                        ...           \n",
       "28940                                                 15138097           \n",
       "12940                                                 19792938           \n",
       "49180                                                 12388867           \n",
       "12260                                                  7242278           \n",
       "41980                                                        0           \n",
       "\n",
       "             Jobs within 45 minutes transit commute  \\\n",
       "Location ID                                           \n",
       "31080                                    1841994646   \n",
       "41940                                     108046518   \n",
       "41860                                     542382083   \n",
       "41620                                      47440346   \n",
       "38900                                      88022223   \n",
       "...                                             ...   \n",
       "28940                                       4582430   \n",
       "12940                                             0   \n",
       "49180                                        266980   \n",
       "12260                                             0   \n",
       "41980                                             0   \n",
       "\n",
       "             Working age population within 45-minute transit commute  \n",
       "Location ID                                                           \n",
       "31080                                               1349784300        \n",
       "41940                                                 92036709        \n",
       "41860                                                322112055        \n",
       "41620                                                 29335032        \n",
       "38900                                                 57456252        \n",
       "...                                                        ...        \n",
       "28940                                                  2269960        \n",
       "12940                                                        0        \n",
       "49180                                                    49732        \n",
       "12260                                                        0        \n",
       "41980                                                        0        \n",
       "\n",
       "[97 rows x 18 columns]"
      ]
     },
     "execution_count": 1,
     "metadata": {},
     "output_type": "execute_result"
    }
   ],
   "source": [
    "import pandas as pd\n",
    "def data_parser(csvdataset):\n",
    "  maindf = pd.read_csv(csvdataset)\n",
    "  '''After Converting my dataset to dataframe I  decided to begin cleaning the data by renaming relevant columns on the \n",
    "  dataframe and dropping the colums we were not going to use anymore, to  see which columns were going to be relevant to us I \n",
    "  referred to the official documentation'''\n",
    "  '''\n",
    "  It is important to note CBSA are the areas we are looking forward to focus on while CBG are the subvisions. we will unify these concepts while\n",
    "  working with the data set\n",
    "  '''\n",
    "  #Looking for the meanings of the different indicators took time!\n",
    "  renameDict = {\"CBSA\": \"Location ID\", \"CBSA_Name\": \"Core Base Stastical Area\", \"CBSA_POP\": \"Total Population\", \"CBSA_EMP\": \"Total Employment\", \"Ac_Total\": \"Total Area of CBG\",\n",
    "                \"HH\": \"Number of Households(CBG)\", \"P_WrkAge\": \"Percentage of Working Population\", \"Pct_AO0\": \"Percent of Household with Zero Automobiles\", \"Pct_AO1\": \"Percent of Househods with One Automobile\",\n",
    "                 \"Pct_AO2p\": \"Percent of Households with two or more cars\", \"R_PCTLOWWAGE\":\"Percent of Low Wage Workers\", \"D3A\":\"Total Network Density\", \"D4D\": \"Frequency of Transit Service per square mile\",\n",
    "                 \"D4E\": \"Frequency of transit service per capita\", \"D5AR\": \"Jobs within 45 minutes auto travel time\", \"D5AE\": \"Working age population within 45 minutes auto travel time\",\n",
    "                 \"D5BR\": \"Jobs within 45 minutes transit commute\", \"D5BE\":\"Working age population within 45-minute transit commute\", \"NatWalkInd\":'National Walkability Index'}\n",
    "  #Dictionary used to filter and rename relevant columns.\n",
    "  maindf = maindf[list(renameDict.keys())]\n",
    "  maindf = maindf.rename(columns=renameDict)\n",
    "  #After extensive web researching I decided just to include areas with a total population of 580,000 this would short this dataset to ~100 CBSAs. This would be a perfect sample for our CBSA.\n",
    "  maindf = maindf[maindf[\"Total Population\"].astype(int) > 580000 ]\n",
    "  #Now that we have our areas targeted is time to get rid of our inconsistencies in order to start working with our averages!!\n",
    "  # First inconsistency: replace all the nan values, -9999 and empty strings with the integer 0 in order to help us create averages that make sense.\n",
    "  maindf = maindf.fillna(0)\n",
    "  maindf.replace(-99999,0, inplace=True)\n",
    "  maindf.replace(\"\", 0, inplace= True)\n",
    "  maindf.replace(\"N/A\",0, inplace=True)\n",
    "  #Now it is time for use the power of groupby functions in order to create a more concise dataframe, keep in my mind that most data is still recorded by its subdivision (CBG).\n",
    "  maindf = maindf.groupby([\"Location ID\", \"Core Base Stastical Area\"]).aggregate({\"Total Population\":\"mean\", \"Total Employment\": \"mean\", \"Total Area of CBG\": \"sum\", \"Number of Households(CBG)\":\"sum\", \"Percentage of Working Population\": \"mean\",\n",
    "  \"Percent of Household with Zero Automobiles\":\"mean\", \"Percent of Househods with One Automobile\":\"mean\", \"Percent of Households with two or more cars\":\"mean\",\"Percent of Low Wage Workers\":\"mean\", \"Total Network Density\":\"mean\",\n",
    "  \"Frequency of Transit Service per square mile\":\"mean\", \"Frequency of transit service per capita\":\"mean\",\"Jobs within 45 minutes auto travel time\":\"sum\", \"Working age population within 45 minutes auto travel time\" :\"sum\",\n",
    "  \"Jobs within 45 minutes transit commute\":\"sum\",\"Working age population within 45-minute transit commute\":\"sum\", \"National Walkability Index\":\"mean\"})\n",
    "  maindf = maindf.reset_index()\n",
    "  #With our main incostencies fixed it its time to fix our number in order to present them in an uniform way for data visualization\n",
    "  #The columns with total values  will be  round to entire numbers(int) and percentages will be rounded  to 2 decimals(floats).\n",
    "  maindf[[\"Location ID\",\"Total Population\", \"Total Employment\", \"Total Area of CBG\", \"Number of Households(CBG)\"]] = maindf[[\"Location ID\",\"Total Population\", \"Total Employment\",\"Total Area of CBG\", \"Number of Households(CBG)\"]].astype(int)\n",
    "  maindf[maindf.select_dtypes(include=\"float\").columns] = maindf.select_dtypes(include=\"float\").round(2)\n",
    "  #After this cleaning and inconsistency fixing process, I still wanted to make more modifications like ordering the dataframe by Walkability Index.\n",
    "  maindf.sort_values(by=\"National Walkability Index\", ascending= False, inplace=True)\n",
    "  maindf.rename(columns={\"Total Area of CBG\": \"Total Area(acres)\",\"Number of Households(CBG)\":\"Number of Households\"}, inplace= True)\n",
    "  nationalwalkabilitycol = maindf.pop(\"National Walkability Index\")\n",
    "  maindf.insert(4,\"National Walkability Index\",nationalwalkabilitycol)\n",
    "  maindf.set_index(\"Location ID\", inplace= True)\n",
    "  #Our dataset is ready to work with!!! It is incredible how a 22074 rows x 117 columns dataset became a 97 rows x 17 columns dataset!!!\n",
    "  maindf.to_csv(\"/Users/eliaszarco/CS_2316/Final Project/PhaseII/EPA_SmartLocationDatabase_V3_cleaned.csv\")\n",
    "  return maindf\n",
    "  \n",
    "\n",
    "############ Function Call ############\n",
    "data_parser(\"/Users/eliaszarco/CS_2316/Final Project/PhaseII/EPA_SmartLocationDatabase_V3_Jan_2021_Final copy.csv\")"
   ]
  },
  {
   "cell_type": "markdown",
   "metadata": {
    "id": "794L4vGXFdYw"
   },
   "source": [
    "## Web Collection Requirement \\#1\n"
   ]
  },
  {
   "cell_type": "code",
   "execution_count": 2,
   "metadata": {},
   "outputs": [
    {
     "name": "stdout",
     "output_type": "stream",
     "text": [
      "Could not retrieve data for MSA code: 17460\n",
      "Could not retrieve data for MSA code: 39100\n",
      "Data extraction complete. Results saved to 'census_data.csv'.\n"
     ]
    },
    {
     "data": {
      "text/html": [
       "<div>\n",
       "<style scoped>\n",
       "    .dataframe tbody tr th:only-of-type {\n",
       "        vertical-align: middle;\n",
       "    }\n",
       "\n",
       "    .dataframe tbody tr th {\n",
       "        vertical-align: top;\n",
       "    }\n",
       "\n",
       "    .dataframe thead th {\n",
       "        text-align: right;\n",
       "    }\n",
       "</style>\n",
       "<table border=\"1\" class=\"dataframe\">\n",
       "  <thead>\n",
       "    <tr style=\"text-align: right;\">\n",
       "      <th></th>\n",
       "      <th>NAME</th>\n",
       "      <th>B19013_001E</th>\n",
       "      <th>B19083_001E</th>\n",
       "      <th>B17001_002E</th>\n",
       "      <th>B23025_005E</th>\n",
       "      <th>B15003_017E</th>\n",
       "      <th>B25003_002E</th>\n",
       "      <th>B25077_001E</th>\n",
       "      <th>B27010_001E</th>\n",
       "      <th>B08301_010E</th>\n",
       "      <th>B28002_001E</th>\n",
       "      <th>B01003_001E</th>\n",
       "      <th>metropolitan statistical area/micropolitan statistical area</th>\n",
       "      <th>Location ID</th>\n",
       "    </tr>\n",
       "  </thead>\n",
       "  <tbody>\n",
       "    <tr>\n",
       "      <th>0</th>\n",
       "      <td>Los Angeles-Long Beach-Anaheim, CA Metro Area</td>\n",
       "      <td>91960</td>\n",
       "      <td>0.4879</td>\n",
       "      <td>1585798</td>\n",
       "      <td>375952</td>\n",
       "      <td>1566702</td>\n",
       "      <td>2189902</td>\n",
       "      <td>867200</td>\n",
       "      <td>12718058</td>\n",
       "      <td>210500</td>\n",
       "      <td>4542998</td>\n",
       "      <td>12799100</td>\n",
       "      <td>31080</td>\n",
       "      <td>31080</td>\n",
       "    </tr>\n",
       "    <tr>\n",
       "      <th>1</th>\n",
       "      <td>San Jose-Sunnyvale-Santa Clara, CA Metro Area</td>\n",
       "      <td>153202</td>\n",
       "      <td>0.4811</td>\n",
       "      <td>143313</td>\n",
       "      <td>46430</td>\n",
       "      <td>168418</td>\n",
       "      <td>374116</td>\n",
       "      <td>1393400</td>\n",
       "      <td>1935266</td>\n",
       "      <td>28740</td>\n",
       "      <td>685743</td>\n",
       "      <td>1945767</td>\n",
       "      <td>41940</td>\n",
       "      <td>41940</td>\n",
       "    </tr>\n",
       "    <tr>\n",
       "      <th>2</th>\n",
       "      <td>San Francisco-Oakland-Fremont, CA Metro Area</td>\n",
       "      <td>127792</td>\n",
       "      <td>0.4985</td>\n",
       "      <td>416535</td>\n",
       "      <td>126782</td>\n",
       "      <td>435206</td>\n",
       "      <td>975016</td>\n",
       "      <td>1105100</td>\n",
       "      <td>4537102</td>\n",
       "      <td>237054</td>\n",
       "      <td>1763465</td>\n",
       "      <td>4566961</td>\n",
       "      <td>41860</td>\n",
       "      <td>41860</td>\n",
       "    </tr>\n",
       "    <tr>\n",
       "      <th>3</th>\n",
       "      <td>Salt Lake City-Murray, UT Metro Area</td>\n",
       "      <td>94409</td>\n",
       "      <td>0.4339</td>\n",
       "      <td>116525</td>\n",
       "      <td>24607</td>\n",
       "      <td>155926</td>\n",
       "      <td>306200</td>\n",
       "      <td>547500</td>\n",
       "      <td>1260873</td>\n",
       "      <td>12784</td>\n",
       "      <td>460977</td>\n",
       "      <td>1267864</td>\n",
       "      <td>41620</td>\n",
       "      <td>41620</td>\n",
       "    </tr>\n",
       "    <tr>\n",
       "      <th>4</th>\n",
       "      <td>Portland-Vancouver-Hillsboro, OR-WA Metro Area</td>\n",
       "      <td>94925</td>\n",
       "      <td>0.4490</td>\n",
       "      <td>227516</td>\n",
       "      <td>52753</td>\n",
       "      <td>279491</td>\n",
       "      <td>639150</td>\n",
       "      <td>560900</td>\n",
       "      <td>2492207</td>\n",
       "      <td>39703</td>\n",
       "      <td>1028651</td>\n",
       "      <td>2509925</td>\n",
       "      <td>38900</td>\n",
       "      <td>38900</td>\n",
       "    </tr>\n",
       "    <tr>\n",
       "      <th>...</th>\n",
       "      <td>...</td>\n",
       "      <td>...</td>\n",
       "      <td>...</td>\n",
       "      <td>...</td>\n",
       "      <td>...</td>\n",
       "      <td>...</td>\n",
       "      <td>...</td>\n",
       "      <td>...</td>\n",
       "      <td>...</td>\n",
       "      <td>...</td>\n",
       "      <td>...</td>\n",
       "      <td>...</td>\n",
       "      <td>...</td>\n",
       "      <td>...</td>\n",
       "    </tr>\n",
       "    <tr>\n",
       "      <th>90</th>\n",
       "      <td>Knoxville, TN Metro Area</td>\n",
       "      <td>69872</td>\n",
       "      <td>0.4834</td>\n",
       "      <td>125035</td>\n",
       "      <td>15056</td>\n",
       "      <td>159962</td>\n",
       "      <td>271369</td>\n",
       "      <td>320700</td>\n",
       "      <td>938331</td>\n",
       "      <td>2118</td>\n",
       "      <td>380978</td>\n",
       "      <td>947017</td>\n",
       "      <td>28940</td>\n",
       "      <td>28940</td>\n",
       "    </tr>\n",
       "    <tr>\n",
       "      <th>91</th>\n",
       "      <td>Baton Rouge, LA Metro Area</td>\n",
       "      <td>64550</td>\n",
       "      <td>0.4942</td>\n",
       "      <td>144535</td>\n",
       "      <td>19730</td>\n",
       "      <td>157412</td>\n",
       "      <td>231880</td>\n",
       "      <td>239700</td>\n",
       "      <td>856950</td>\n",
       "      <td>3401</td>\n",
       "      <td>334402</td>\n",
       "      <td>873661</td>\n",
       "      <td>12940</td>\n",
       "      <td>12940</td>\n",
       "    </tr>\n",
       "    <tr>\n",
       "      <th>92</th>\n",
       "      <td>Winston-Salem, NC Metro Area</td>\n",
       "      <td>64406</td>\n",
       "      <td>0.4458</td>\n",
       "      <td>95786</td>\n",
       "      <td>14665</td>\n",
       "      <td>110189</td>\n",
       "      <td>199948</td>\n",
       "      <td>248600</td>\n",
       "      <td>689400</td>\n",
       "      <td>1586</td>\n",
       "      <td>292187</td>\n",
       "      <td>695630</td>\n",
       "      <td>49180</td>\n",
       "      <td>49180</td>\n",
       "    </tr>\n",
       "    <tr>\n",
       "      <th>93</th>\n",
       "      <td>Augusta-Richmond County, GA-SC Metro Area</td>\n",
       "      <td>67152</td>\n",
       "      <td>0.4614</td>\n",
       "      <td>91549</td>\n",
       "      <td>15672</td>\n",
       "      <td>103235</td>\n",
       "      <td>166773</td>\n",
       "      <td>238300</td>\n",
       "      <td>608357</td>\n",
       "      <td>2286</td>\n",
       "      <td>236371</td>\n",
       "      <td>628186</td>\n",
       "      <td>12260</td>\n",
       "      <td>12260</td>\n",
       "    </tr>\n",
       "    <tr>\n",
       "      <th>94</th>\n",
       "      <td>San Juan-Bayamón-Caguas, PR Metro Area</td>\n",
       "      <td>27981</td>\n",
       "      <td>0.5508</td>\n",
       "      <td>738796</td>\n",
       "      <td>65738</td>\n",
       "      <td>360544</td>\n",
       "      <td>566000</td>\n",
       "      <td>145000</td>\n",
       "      <td>2024780</td>\n",
       "      <td>10813</td>\n",
       "      <td>827522</td>\n",
       "      <td>2037875</td>\n",
       "      <td>41980</td>\n",
       "      <td>41980</td>\n",
       "    </tr>\n",
       "  </tbody>\n",
       "</table>\n",
       "<p>95 rows × 14 columns</p>\n",
       "</div>"
      ],
      "text/plain": [
       "                                              NAME  B19013_001E  B19083_001E  \\\n",
       "0    Los Angeles-Long Beach-Anaheim, CA Metro Area        91960       0.4879   \n",
       "1    San Jose-Sunnyvale-Santa Clara, CA Metro Area       153202       0.4811   \n",
       "2     San Francisco-Oakland-Fremont, CA Metro Area       127792       0.4985   \n",
       "3             Salt Lake City-Murray, UT Metro Area        94409       0.4339   \n",
       "4   Portland-Vancouver-Hillsboro, OR-WA Metro Area        94925       0.4490   \n",
       "..                                             ...          ...          ...   \n",
       "90                        Knoxville, TN Metro Area        69872       0.4834   \n",
       "91                      Baton Rouge, LA Metro Area        64550       0.4942   \n",
       "92                    Winston-Salem, NC Metro Area        64406       0.4458   \n",
       "93       Augusta-Richmond County, GA-SC Metro Area        67152       0.4614   \n",
       "94          San Juan-Bayamón-Caguas, PR Metro Area        27981       0.5508   \n",
       "\n",
       "    B17001_002E  B23025_005E  B15003_017E  B25003_002E  B25077_001E  \\\n",
       "0       1585798       375952      1566702      2189902       867200   \n",
       "1        143313        46430       168418       374116      1393400   \n",
       "2        416535       126782       435206       975016      1105100   \n",
       "3        116525        24607       155926       306200       547500   \n",
       "4        227516        52753       279491       639150       560900   \n",
       "..          ...          ...          ...          ...          ...   \n",
       "90       125035        15056       159962       271369       320700   \n",
       "91       144535        19730       157412       231880       239700   \n",
       "92        95786        14665       110189       199948       248600   \n",
       "93        91549        15672       103235       166773       238300   \n",
       "94       738796        65738       360544       566000       145000   \n",
       "\n",
       "    B27010_001E  B08301_010E  B28002_001E  B01003_001E  \\\n",
       "0      12718058       210500      4542998     12799100   \n",
       "1       1935266        28740       685743      1945767   \n",
       "2       4537102       237054      1763465      4566961   \n",
       "3       1260873        12784       460977      1267864   \n",
       "4       2492207        39703      1028651      2509925   \n",
       "..          ...          ...          ...          ...   \n",
       "90       938331         2118       380978       947017   \n",
       "91       856950         3401       334402       873661   \n",
       "92       689400         1586       292187       695630   \n",
       "93       608357         2286       236371       628186   \n",
       "94      2024780        10813       827522      2037875   \n",
       "\n",
       "   metropolitan statistical area/micropolitan statistical area Location ID  \n",
       "0                                               31080                31080  \n",
       "1                                               41940                41940  \n",
       "2                                               41860                41860  \n",
       "3                                               41620                41620  \n",
       "4                                               38900                38900  \n",
       "..                                                ...                  ...  \n",
       "90                                              28940                28940  \n",
       "91                                              12940                12940  \n",
       "92                                              49180                49180  \n",
       "93                                              12260                12260  \n",
       "94                                              41980                41980  \n",
       "\n",
       "[95 rows x 14 columns]"
      ]
     },
     "execution_count": 2,
     "metadata": {},
     "output_type": "execute_result"
    }
   ],
   "source": [
    "import requests\n",
    "import pandas as pd\n",
    "import time\n",
    "\n",
    "def web_parser2():\n",
    "    \"\"\"\n",
    "    In this web parser we will retrieve several indicators from United Census Bureau API using the Location ID we retrieved from our cleaned CSV File on Part 1\n",
    "    We will retrieve indicators that relate to the quality of life and economic well being of the inhabitants of the this areas\n",
    "    \"\"\"\n",
    "    #Loading our cleaned csv file and ensure that the column IDs are strings\n",
    "    csv_data = pd.read_csv(\"EPA_SmartLocationDatabase_V3_cleaned.csv\")\n",
    "    msa_codes = csv_data[\"Location ID\"].astype(str).to_list()  \n",
    "    # Census API setup stating our base_url and our api_key\n",
    "    base_url = \"https://api.census.gov/data/2023/acs/acs1\"\n",
    "    api_key = \"c6886343eae9f8942d04ffe9d2872f47f29bbdcd\"\n",
    "    # a list of variables with the specific calls we have to make to the api  in order to get the indicators.\n",
    "    variables = [\n",
    "        \"B19013_001E\",  # Median Household Income\n",
    "        \"B19083_001E\",  # Income Inequality (Gini)\n",
    "        \"B17001_002E\",  # Number of People in Poverty\n",
    "        \"B23025_005E\",  # Number of Unemployed Peole\n",
    "        \"B15003_017E\",  # Number of People with Educational Attainament(HS+)\n",
    "        \"B25003_002E\",  # Number of Own Households\n",
    "        \"B25077_001E\",  # Housing Affordability (Median Home Value)\n",
    "        \"B27010_001E\",  # Number of People who have ccess to Healthcare (Health Insurance Coverage)\n",
    "        \"B08301_010E\",  # Number of People that use public Transportatiom\n",
    "        \"B28002_001E\",  # Number of People with internet access\n",
    "        \"B01003_001E\", # Total Population\n",
    "    ]\n",
    "\n",
    "    all_data = []\n",
    "\n",
    "    for msa_code in msa_codes:\n",
    "        # Params stating the data we want to be retrieved\n",
    "        params = {\n",
    "            \"get\": f\"NAME,{','.join(variables)}\",\n",
    "            \"for\": f\"metropolitan statistical area/micropolitan statistical area:{msa_code}\",\n",
    "            \"key\": api_key\n",
    "        }\n",
    "\n",
    "        # Calling the API\n",
    "        response = requests.get(base_url, params=params)\n",
    "        if response.status_code == 200:\n",
    "            data = response.json()\n",
    "            columns = data[0]\n",
    "            rows = data[1:]\n",
    "            df = pd.DataFrame(rows, columns=columns)\n",
    "\n",
    "            # Converting the string variables into integers to allow data retrieval and analysis\n",
    "            for var in variables:\n",
    "                df[var] = pd.to_numeric(df[var], errors='coerce')\n",
    "            df[\"Location ID\"] = msa_code\n",
    "            all_data.append(df)\n",
    "        else:\n",
    "            print(f\"Could not retrieve data for MSA code: {msa_code}\") \n",
    "        \n",
    "        # Pause to avoid overwhelming the server\n",
    "            time.sleep(1)\n",
    "\n",
    "\n",
    "    # Make sure that the data is exists and then dumping all the data into the data frame\n",
    "    if all_data:\n",
    "        result_df = pd.concat(all_data, ignore_index=True)\n",
    "        result_df.to_csv('census_data.csv', index=False)\n",
    "        print(\"Data extraction complete. Results saved to 'census_data.csv'.\")\n",
    "        return result_df\n",
    "\n",
    "    \n",
    "    \n",
    "############ Function Call ############\n",
    "web_parser2()"
   ]
  },
  {
   "cell_type": "markdown",
   "metadata": {
    "id": "OTRqdBG6sSvu"
   },
   "source": [
    "## Web Collection Requirement #2"
   ]
  },
  {
   "cell_type": "code",
   "execution_count": 3,
   "metadata": {},
   "outputs": [
    {
     "data": {
      "text/plain": [
       "(               City  Score\n",
       " 0             Tampa   67.1\n",
       " 1         Nashville   61.2\n",
       " 2             Miami   60.8\n",
       " 3     San Francisco   59.5\n",
       " 4         San Diego   57.9\n",
       " 5  Dalla-Fort Worth   57.9\n",
       " 6           Atlanta   55.3\n",
       " 7           Orlando   55.2\n",
       " 8        Sacremento   55.0\n",
       " 9       San Antonio   54.9,\n",
       "               City  Score\n",
       " 0         New York  100.0\n",
       " 1           Boston   74.3\n",
       " 2  Washington D.C.   72.6\n",
       " 3          Seattle   69.4\n",
       " 4         Portland   68.5\n",
       " 5    San Francisco   66.2\n",
       " 6          Chicago   65.9\n",
       " 7      Los Angeles   59.0)"
      ]
     },
     "execution_count": 3,
     "metadata": {},
     "output_type": "execute_result"
    }
   ],
   "source": [
    "import requests\n",
    "from bs4 import BeautifulSoup\n",
    "\"\"\"\n",
    "The goal of webscraping this website is to extract data from a different source regarding the perceptions different experts have \n",
    "regarding the walkabiity aspect of different metropolitan areas, this article contains to measurements that are relavant to us and\n",
    "we cant make two  data frame out of it.\n",
    "\"\"\"\n",
    "def web_parser2(url):\n",
    "    response = requests.get(url)\n",
    "    soup = BeautifulSoup(response.content, \"html.parser\")\n",
    "    #identify the different sections we want to parse out of the website\n",
    "    walkability_section = soup.find('strong', string=\"Foot Traffic Ahead Walkability Rankings 2023\").find_next('ol')\n",
    "    growth_section = soup.find('strong', string=\"Future Growth Momentum Rankings 2023\").find_next('ol')\n",
    "    walkability_rankings = []\n",
    "    #loop through the tags in order to get the data\n",
    "    for item in walkability_section.find_all('li'):\n",
    "        city, score = item.get_text().rsplit(',', 1)\n",
    "        walkability_rankings.append((city.strip(), float(score.strip())))\n",
    "    growth_momentum_rankings = []\n",
    "    for item in growth_section.find_all('li'):\n",
    "        city, score = item.get_text().rsplit(',', 1)\n",
    "        growth_momentum_rankings.append((city.strip(), float(score.strip())))\n",
    "    #populate our data frames and wirtie the to csv files.\n",
    "    walkability_df = pd.DataFrame(walkability_rankings, columns=[\"City\", \"Score\"])\n",
    "    growth_momentum_df = pd.DataFrame(growth_momentum_rankings, columns=[\"City\", \"Score\"])\n",
    "    walkability_df.to_csv(\"walkabilitydata.csv\")\n",
    "    growth_momentum_df.to_csv(\"growthdata.csv\")\n",
    "    return growth_momentum_df, walkability_df\n",
    "\n",
    "############ Function Call ############\n",
    "web_parser2(\"https://www.theurbanist.org/2023/01/28/report-ranking-us-metros-shows-walkable-urbanism-pays-dividends/\")\n",
    "#These are two different dataframes and the output kind of conflates them but they were written to individual csv files for further analysis.\n",
    "\n"
   ]
  },
  {
   "cell_type": "code",
   "execution_count": 4,
   "metadata": {},
   "outputs": [
    {
     "data": {
      "text/html": [
       "<div>\n",
       "<style scoped>\n",
       "    .dataframe tbody tr th:only-of-type {\n",
       "        vertical-align: middle;\n",
       "    }\n",
       "\n",
       "    .dataframe tbody tr th {\n",
       "        vertical-align: top;\n",
       "    }\n",
       "\n",
       "    .dataframe thead th {\n",
       "        text-align: right;\n",
       "    }\n",
       "</style>\n",
       "<table border=\"1\" class=\"dataframe\">\n",
       "  <thead>\n",
       "    <tr style=\"text-align: right;\">\n",
       "      <th></th>\n",
       "      <th>Core Base Stastical Area</th>\n",
       "      <th>Median Household Income</th>\n",
       "      <th>Income Inequality (Gini)</th>\n",
       "      <th>Number of People in Poverty</th>\n",
       "      <th>Number of Unemployed People</th>\n",
       "      <th>Number of People With Educational Attainment (HS+)</th>\n",
       "      <th>Number of Owned Households</th>\n",
       "      <th>Housing Affordability (Median Home Value)</th>\n",
       "      <th>Number of People with Health Insurance Coverage</th>\n",
       "      <th>Number of People Using public Transportation</th>\n",
       "      <th>Number of People With Internet Access</th>\n",
       "      <th>Final Total Population</th>\n",
       "    </tr>\n",
       "    <tr>\n",
       "      <th>Location ID</th>\n",
       "      <th></th>\n",
       "      <th></th>\n",
       "      <th></th>\n",
       "      <th></th>\n",
       "      <th></th>\n",
       "      <th></th>\n",
       "      <th></th>\n",
       "      <th></th>\n",
       "      <th></th>\n",
       "      <th></th>\n",
       "      <th></th>\n",
       "      <th></th>\n",
       "    </tr>\n",
       "  </thead>\n",
       "  <tbody>\n",
       "    <tr>\n",
       "      <th>31080</th>\n",
       "      <td>Los Angeles-Long Beach-Anaheim, CA</td>\n",
       "      <td>91960</td>\n",
       "      <td>0.4879</td>\n",
       "      <td>1585798</td>\n",
       "      <td>375952</td>\n",
       "      <td>1566702</td>\n",
       "      <td>2189902</td>\n",
       "      <td>867200</td>\n",
       "      <td>12718058</td>\n",
       "      <td>210500</td>\n",
       "      <td>4542998</td>\n",
       "      <td>12799100</td>\n",
       "    </tr>\n",
       "    <tr>\n",
       "      <th>41940</th>\n",
       "      <td>San Jose-Sunnyvale-Santa Clara, CA</td>\n",
       "      <td>153202</td>\n",
       "      <td>0.4811</td>\n",
       "      <td>143313</td>\n",
       "      <td>46430</td>\n",
       "      <td>168418</td>\n",
       "      <td>374116</td>\n",
       "      <td>1393400</td>\n",
       "      <td>1935266</td>\n",
       "      <td>28740</td>\n",
       "      <td>685743</td>\n",
       "      <td>1945767</td>\n",
       "    </tr>\n",
       "    <tr>\n",
       "      <th>41860</th>\n",
       "      <td>San Francisco-Oakland-Fremont, CA</td>\n",
       "      <td>127792</td>\n",
       "      <td>0.4985</td>\n",
       "      <td>416535</td>\n",
       "      <td>126782</td>\n",
       "      <td>435206</td>\n",
       "      <td>975016</td>\n",
       "      <td>1105100</td>\n",
       "      <td>4537102</td>\n",
       "      <td>237054</td>\n",
       "      <td>1763465</td>\n",
       "      <td>4566961</td>\n",
       "    </tr>\n",
       "    <tr>\n",
       "      <th>41620</th>\n",
       "      <td>Salt Lake City-Murray, UT</td>\n",
       "      <td>94409</td>\n",
       "      <td>0.4339</td>\n",
       "      <td>116525</td>\n",
       "      <td>24607</td>\n",
       "      <td>155926</td>\n",
       "      <td>306200</td>\n",
       "      <td>547500</td>\n",
       "      <td>1260873</td>\n",
       "      <td>12784</td>\n",
       "      <td>460977</td>\n",
       "      <td>1267864</td>\n",
       "    </tr>\n",
       "    <tr>\n",
       "      <th>38900</th>\n",
       "      <td>Portland-Vancouver-Hillsboro, OR-WA</td>\n",
       "      <td>94925</td>\n",
       "      <td>0.4490</td>\n",
       "      <td>227516</td>\n",
       "      <td>52753</td>\n",
       "      <td>279491</td>\n",
       "      <td>639150</td>\n",
       "      <td>560900</td>\n",
       "      <td>2492207</td>\n",
       "      <td>39703</td>\n",
       "      <td>1028651</td>\n",
       "      <td>2509925</td>\n",
       "    </tr>\n",
       "    <tr>\n",
       "      <th>...</th>\n",
       "      <td>...</td>\n",
       "      <td>...</td>\n",
       "      <td>...</td>\n",
       "      <td>...</td>\n",
       "      <td>...</td>\n",
       "      <td>...</td>\n",
       "      <td>...</td>\n",
       "      <td>...</td>\n",
       "      <td>...</td>\n",
       "      <td>...</td>\n",
       "      <td>...</td>\n",
       "      <td>...</td>\n",
       "    </tr>\n",
       "    <tr>\n",
       "      <th>28940</th>\n",
       "      <td>Knoxville, TN</td>\n",
       "      <td>69872</td>\n",
       "      <td>0.4834</td>\n",
       "      <td>125035</td>\n",
       "      <td>15056</td>\n",
       "      <td>159962</td>\n",
       "      <td>271369</td>\n",
       "      <td>320700</td>\n",
       "      <td>938331</td>\n",
       "      <td>2118</td>\n",
       "      <td>380978</td>\n",
       "      <td>947017</td>\n",
       "    </tr>\n",
       "    <tr>\n",
       "      <th>12940</th>\n",
       "      <td>Baton Rouge, LA</td>\n",
       "      <td>64550</td>\n",
       "      <td>0.4942</td>\n",
       "      <td>144535</td>\n",
       "      <td>19730</td>\n",
       "      <td>157412</td>\n",
       "      <td>231880</td>\n",
       "      <td>239700</td>\n",
       "      <td>856950</td>\n",
       "      <td>3401</td>\n",
       "      <td>334402</td>\n",
       "      <td>873661</td>\n",
       "    </tr>\n",
       "    <tr>\n",
       "      <th>49180</th>\n",
       "      <td>Winston-Salem, NC</td>\n",
       "      <td>64406</td>\n",
       "      <td>0.4458</td>\n",
       "      <td>95786</td>\n",
       "      <td>14665</td>\n",
       "      <td>110189</td>\n",
       "      <td>199948</td>\n",
       "      <td>248600</td>\n",
       "      <td>689400</td>\n",
       "      <td>1586</td>\n",
       "      <td>292187</td>\n",
       "      <td>695630</td>\n",
       "    </tr>\n",
       "    <tr>\n",
       "      <th>12260</th>\n",
       "      <td>Augusta-Richmond County, GA-SC</td>\n",
       "      <td>67152</td>\n",
       "      <td>0.4614</td>\n",
       "      <td>91549</td>\n",
       "      <td>15672</td>\n",
       "      <td>103235</td>\n",
       "      <td>166773</td>\n",
       "      <td>238300</td>\n",
       "      <td>608357</td>\n",
       "      <td>2286</td>\n",
       "      <td>236371</td>\n",
       "      <td>628186</td>\n",
       "    </tr>\n",
       "    <tr>\n",
       "      <th>41980</th>\n",
       "      <td>San Juan-Bayamón-Caguas, PR</td>\n",
       "      <td>27981</td>\n",
       "      <td>0.5508</td>\n",
       "      <td>738796</td>\n",
       "      <td>65738</td>\n",
       "      <td>360544</td>\n",
       "      <td>566000</td>\n",
       "      <td>145000</td>\n",
       "      <td>2024780</td>\n",
       "      <td>10813</td>\n",
       "      <td>827522</td>\n",
       "      <td>2037875</td>\n",
       "    </tr>\n",
       "  </tbody>\n",
       "</table>\n",
       "<p>95 rows × 12 columns</p>\n",
       "</div>"
      ],
      "text/plain": [
       "                        Core Base Stastical Area  Median Household Income  \\\n",
       "Location ID                                                                 \n",
       "31080         Los Angeles-Long Beach-Anaheim, CA                    91960   \n",
       "41940         San Jose-Sunnyvale-Santa Clara, CA                   153202   \n",
       "41860          San Francisco-Oakland-Fremont, CA                   127792   \n",
       "41620                  Salt Lake City-Murray, UT                    94409   \n",
       "38900        Portland-Vancouver-Hillsboro, OR-WA                    94925   \n",
       "...                                          ...                      ...   \n",
       "28940                              Knoxville, TN                    69872   \n",
       "12940                            Baton Rouge, LA                    64550   \n",
       "49180                          Winston-Salem, NC                    64406   \n",
       "12260             Augusta-Richmond County, GA-SC                    67152   \n",
       "41980                San Juan-Bayamón-Caguas, PR                    27981   \n",
       "\n",
       "             Income Inequality (Gini)  Number of People in Poverty  \\\n",
       "Location ID                                                          \n",
       "31080                          0.4879                      1585798   \n",
       "41940                          0.4811                       143313   \n",
       "41860                          0.4985                       416535   \n",
       "41620                          0.4339                       116525   \n",
       "38900                          0.4490                       227516   \n",
       "...                               ...                          ...   \n",
       "28940                          0.4834                       125035   \n",
       "12940                          0.4942                       144535   \n",
       "49180                          0.4458                        95786   \n",
       "12260                          0.4614                        91549   \n",
       "41980                          0.5508                       738796   \n",
       "\n",
       "             Number of Unemployed People  \\\n",
       "Location ID                                \n",
       "31080                             375952   \n",
       "41940                              46430   \n",
       "41860                             126782   \n",
       "41620                              24607   \n",
       "38900                              52753   \n",
       "...                                  ...   \n",
       "28940                              15056   \n",
       "12940                              19730   \n",
       "49180                              14665   \n",
       "12260                              15672   \n",
       "41980                              65738   \n",
       "\n",
       "             Number of People With Educational Attainment (HS+)  \\\n",
       "Location ID                                                       \n",
       "31080                                                  1566702    \n",
       "41940                                                   168418    \n",
       "41860                                                   435206    \n",
       "41620                                                   155926    \n",
       "38900                                                   279491    \n",
       "...                                                        ...    \n",
       "28940                                                   159962    \n",
       "12940                                                   157412    \n",
       "49180                                                   110189    \n",
       "12260                                                   103235    \n",
       "41980                                                   360544    \n",
       "\n",
       "             Number of Owned Households  \\\n",
       "Location ID                               \n",
       "31080                           2189902   \n",
       "41940                            374116   \n",
       "41860                            975016   \n",
       "41620                            306200   \n",
       "38900                            639150   \n",
       "...                                 ...   \n",
       "28940                            271369   \n",
       "12940                            231880   \n",
       "49180                            199948   \n",
       "12260                            166773   \n",
       "41980                            566000   \n",
       "\n",
       "             Housing Affordability (Median Home Value)  \\\n",
       "Location ID                                              \n",
       "31080                                           867200   \n",
       "41940                                          1393400   \n",
       "41860                                          1105100   \n",
       "41620                                           547500   \n",
       "38900                                           560900   \n",
       "...                                                ...   \n",
       "28940                                           320700   \n",
       "12940                                           239700   \n",
       "49180                                           248600   \n",
       "12260                                           238300   \n",
       "41980                                           145000   \n",
       "\n",
       "             Number of People with Health Insurance Coverage  \\\n",
       "Location ID                                                    \n",
       "31080                                               12718058   \n",
       "41940                                                1935266   \n",
       "41860                                                4537102   \n",
       "41620                                                1260873   \n",
       "38900                                                2492207   \n",
       "...                                                      ...   \n",
       "28940                                                 938331   \n",
       "12940                                                 856950   \n",
       "49180                                                 689400   \n",
       "12260                                                 608357   \n",
       "41980                                                2024780   \n",
       "\n",
       "             Number of People Using public Transportation  \\\n",
       "Location ID                                                 \n",
       "31080                                              210500   \n",
       "41940                                               28740   \n",
       "41860                                              237054   \n",
       "41620                                               12784   \n",
       "38900                                               39703   \n",
       "...                                                   ...   \n",
       "28940                                                2118   \n",
       "12940                                                3401   \n",
       "49180                                                1586   \n",
       "12260                                                2286   \n",
       "41980                                               10813   \n",
       "\n",
       "             Number of People With Internet Access  Final Total Population  \n",
       "Location ID                                                                 \n",
       "31080                                      4542998                12799100  \n",
       "41940                                       685743                 1945767  \n",
       "41860                                      1763465                 4566961  \n",
       "41620                                       460977                 1267864  \n",
       "38900                                      1028651                 2509925  \n",
       "...                                            ...                     ...  \n",
       "28940                                       380978                  947017  \n",
       "12940                                       334402                  873661  \n",
       "49180                                       292187                  695630  \n",
       "12260                                       236371                  628186  \n",
       "41980                                       827522                 2037875  \n",
       "\n",
       "[95 rows x 12 columns]"
      ]
     },
     "execution_count": 4,
     "metadata": {},
     "output_type": "execute_result"
    }
   ],
   "source": [
    "# this function is intended to clean the second CSV we retrieved from the API, I will also fix some name inconsistencies in this dataset\n",
    "def csvcleanernew(newcsv):\n",
    "    maindf = pd.read_csv(newcsv)\n",
    "    nameDict = {\"NAME\":\"Core Base Stastical Area\",\"B19013_001E\": \"Median Household Income\", \"B19083_001E\":\"Income Inequality (Gini)\", \"B17001_002E\":\"Number of People in Poverty\",\n",
    "                \"B23025_005E\":  \"Number of Unemployed People\",  \"B15003_017E\": \"Number of People With Educational Attainment (HS+)\", \"B25003_002E\": \"Number of Owned Households\",  \n",
    "                \"B25077_001E\":\"Housing Affordability (Median Home Value)\",  \"B27010_001E\": \"Number of People with Health Insurance Coverage\",  \n",
    "                \"B08301_010E\":\"Number of People Using public Transportation\" , \"B28002_001E\":\"Number of People With Internet Access\", \"B01003_001E\": \"Final Total Population\"}\n",
    "    maindf = maindf.rename(columns=nameDict)\n",
    "    maindf.set_index(\"Location ID\", inplace=True)\n",
    "    maindf.drop(\"metropolitan statistical area/micropolitan statistical area\", axis=1, inplace=True)\n",
    "    #Final inconsistency: modify the row values on the Core Stastical Base Area in order for it to match with the format given on the first table(our blue print)\n",
    "    # We will combine Pandas and Regular Expression to get rid of these !\n",
    "    maindf[\"Core Base Stastical Area\"] = maindf[\"Core Base Stastical Area\"].str.replace(r',? Metro Area$', \"\", regex=True)\n",
    "    maindf.to_csv(\"clean_census_data.csv\")\n",
    "    return maindf\n",
    "    \n",
    "############ Function Call ############\n",
    "csvcleanernew(\"/Users/eliaszarco/CS_2316/Final Project/PhaseII/census_data.csv\")"
   ]
  },
  {
   "cell_type": "code",
   "execution_count": 5,
   "metadata": {},
   "outputs": [
    {
     "data": {
      "text/html": [
       "<div>\n",
       "<style scoped>\n",
       "    .dataframe tbody tr th:only-of-type {\n",
       "        vertical-align: middle;\n",
       "    }\n",
       "\n",
       "    .dataframe tbody tr th {\n",
       "        vertical-align: top;\n",
       "    }\n",
       "\n",
       "    .dataframe thead th {\n",
       "        text-align: right;\n",
       "    }\n",
       "</style>\n",
       "<table border=\"1\" class=\"dataframe\">\n",
       "  <thead>\n",
       "    <tr style=\"text-align: right;\">\n",
       "      <th></th>\n",
       "      <th>Location ID</th>\n",
       "      <th>Core Base Stastical Area_x</th>\n",
       "      <th>Median Household Income</th>\n",
       "      <th>Income Inequality (Gini)</th>\n",
       "      <th>Number of People in Poverty</th>\n",
       "      <th>Number of Unemployed People</th>\n",
       "      <th>Number of People With Educational Attainment (HS+)</th>\n",
       "      <th>Number of Owned Households</th>\n",
       "      <th>Housing Affordability (Median Home Value)</th>\n",
       "      <th>Number of People with Health Insurance Coverage</th>\n",
       "      <th>...</th>\n",
       "      <th>Percent of Househods with One Automobile</th>\n",
       "      <th>Percent of Households with two or more cars</th>\n",
       "      <th>Percent of Low Wage Workers</th>\n",
       "      <th>Total Network Density</th>\n",
       "      <th>Frequency of Transit Service per square mile</th>\n",
       "      <th>Frequency of transit service per capita</th>\n",
       "      <th>Jobs within 45 minutes auto travel time</th>\n",
       "      <th>Working age population within 45 minutes auto travel time</th>\n",
       "      <th>Jobs within 45 minutes transit commute</th>\n",
       "      <th>Working age population within 45-minute transit commute</th>\n",
       "    </tr>\n",
       "  </thead>\n",
       "  <tbody>\n",
       "    <tr>\n",
       "      <th>0</th>\n",
       "      <td>31080</td>\n",
       "      <td>Los Angeles-Long Beach-Anaheim, CA</td>\n",
       "      <td>91960</td>\n",
       "      <td>0.4879</td>\n",
       "      <td>1585798</td>\n",
       "      <td>375952</td>\n",
       "      <td>1566702</td>\n",
       "      <td>2189902</td>\n",
       "      <td>867200</td>\n",
       "      <td>12718058</td>\n",
       "      <td>...</td>\n",
       "      <td>0.30</td>\n",
       "      <td>0.62</td>\n",
       "      <td>0.23</td>\n",
       "      <td>24.75</td>\n",
       "      <td>90.68</td>\n",
       "      <td>0.01</td>\n",
       "      <td>2481115450</td>\n",
       "      <td>2182630214</td>\n",
       "      <td>1841994646</td>\n",
       "      <td>1349784300</td>\n",
       "    </tr>\n",
       "    <tr>\n",
       "      <th>1</th>\n",
       "      <td>41940</td>\n",
       "      <td>San Jose-Sunnyvale-Santa Clara, CA</td>\n",
       "      <td>153202</td>\n",
       "      <td>0.4811</td>\n",
       "      <td>143313</td>\n",
       "      <td>46430</td>\n",
       "      <td>168418</td>\n",
       "      <td>374116</td>\n",
       "      <td>1393400</td>\n",
       "      <td>1935266</td>\n",
       "      <td>...</td>\n",
       "      <td>0.25</td>\n",
       "      <td>0.71</td>\n",
       "      <td>0.16</td>\n",
       "      <td>24.44</td>\n",
       "      <td>38.83</td>\n",
       "      <td>0.01</td>\n",
       "      <td>123977256</td>\n",
       "      <td>110020600</td>\n",
       "      <td>108046518</td>\n",
       "      <td>92036709</td>\n",
       "    </tr>\n",
       "    <tr>\n",
       "      <th>2</th>\n",
       "      <td>41860</td>\n",
       "      <td>San Francisco-Oakland-Fremont, CA</td>\n",
       "      <td>127792</td>\n",
       "      <td>0.4985</td>\n",
       "      <td>416535</td>\n",
       "      <td>126782</td>\n",
       "      <td>435206</td>\n",
       "      <td>975016</td>\n",
       "      <td>1105100</td>\n",
       "      <td>4537102</td>\n",
       "      <td>...</td>\n",
       "      <td>0.32</td>\n",
       "      <td>0.57</td>\n",
       "      <td>0.17</td>\n",
       "      <td>25.10</td>\n",
       "      <td>203.92</td>\n",
       "      <td>0.01</td>\n",
       "      <td>338100994</td>\n",
       "      <td>278699035</td>\n",
       "      <td>542382083</td>\n",
       "      <td>322112055</td>\n",
       "    </tr>\n",
       "    <tr>\n",
       "      <th>3</th>\n",
       "      <td>41620</td>\n",
       "      <td>Salt Lake City-Murray, UT</td>\n",
       "      <td>94409</td>\n",
       "      <td>0.4339</td>\n",
       "      <td>116525</td>\n",
       "      <td>24607</td>\n",
       "      <td>155926</td>\n",
       "      <td>306200</td>\n",
       "      <td>547500</td>\n",
       "      <td>1260873</td>\n",
       "      <td>...</td>\n",
       "      <td>0.27</td>\n",
       "      <td>0.68</td>\n",
       "      <td>0.25</td>\n",
       "      <td>19.82</td>\n",
       "      <td>29.75</td>\n",
       "      <td>0.00</td>\n",
       "      <td>59376545</td>\n",
       "      <td>48445666</td>\n",
       "      <td>47440346</td>\n",
       "      <td>29335032</td>\n",
       "    </tr>\n",
       "    <tr>\n",
       "      <th>4</th>\n",
       "      <td>38900</td>\n",
       "      <td>Portland-Vancouver-Hillsboro, OR-WA</td>\n",
       "      <td>94925</td>\n",
       "      <td>0.4490</td>\n",
       "      <td>227516</td>\n",
       "      <td>52753</td>\n",
       "      <td>279491</td>\n",
       "      <td>639150</td>\n",
       "      <td>560900</td>\n",
       "      <td>2492207</td>\n",
       "      <td>...</td>\n",
       "      <td>0.31</td>\n",
       "      <td>0.62</td>\n",
       "      <td>0.19</td>\n",
       "      <td>19.73</td>\n",
       "      <td>59.85</td>\n",
       "      <td>0.01</td>\n",
       "      <td>86732917</td>\n",
       "      <td>69826217</td>\n",
       "      <td>88022223</td>\n",
       "      <td>57456252</td>\n",
       "    </tr>\n",
       "    <tr>\n",
       "      <th>...</th>\n",
       "      <td>...</td>\n",
       "      <td>...</td>\n",
       "      <td>...</td>\n",
       "      <td>...</td>\n",
       "      <td>...</td>\n",
       "      <td>...</td>\n",
       "      <td>...</td>\n",
       "      <td>...</td>\n",
       "      <td>...</td>\n",
       "      <td>...</td>\n",
       "      <td>...</td>\n",
       "      <td>...</td>\n",
       "      <td>...</td>\n",
       "      <td>...</td>\n",
       "      <td>...</td>\n",
       "      <td>...</td>\n",
       "      <td>...</td>\n",
       "      <td>...</td>\n",
       "      <td>...</td>\n",
       "      <td>...</td>\n",
       "      <td>...</td>\n",
       "    </tr>\n",
       "    <tr>\n",
       "      <th>90</th>\n",
       "      <td>28940</td>\n",
       "      <td>Knoxville, TN</td>\n",
       "      <td>69872</td>\n",
       "      <td>0.4834</td>\n",
       "      <td>125035</td>\n",
       "      <td>15056</td>\n",
       "      <td>159962</td>\n",
       "      <td>271369</td>\n",
       "      <td>320700</td>\n",
       "      <td>938331</td>\n",
       "      <td>...</td>\n",
       "      <td>0.30</td>\n",
       "      <td>0.63</td>\n",
       "      <td>0.24</td>\n",
       "      <td>10.08</td>\n",
       "      <td>10.32</td>\n",
       "      <td>0.00</td>\n",
       "      <td>19360804</td>\n",
       "      <td>15138097</td>\n",
       "      <td>4582430</td>\n",
       "      <td>2269960</td>\n",
       "    </tr>\n",
       "    <tr>\n",
       "      <th>91</th>\n",
       "      <td>12940</td>\n",
       "      <td>Baton Rouge, LA</td>\n",
       "      <td>64550</td>\n",
       "      <td>0.4942</td>\n",
       "      <td>144535</td>\n",
       "      <td>19730</td>\n",
       "      <td>157412</td>\n",
       "      <td>231880</td>\n",
       "      <td>239700</td>\n",
       "      <td>856950</td>\n",
       "      <td>...</td>\n",
       "      <td>0.37</td>\n",
       "      <td>0.55</td>\n",
       "      <td>0.25</td>\n",
       "      <td>11.27</td>\n",
       "      <td>0.00</td>\n",
       "      <td>0.00</td>\n",
       "      <td>27497651</td>\n",
       "      <td>19792938</td>\n",
       "      <td>0</td>\n",
       "      <td>0</td>\n",
       "    </tr>\n",
       "    <tr>\n",
       "      <th>92</th>\n",
       "      <td>49180</td>\n",
       "      <td>Winston-Salem, NC</td>\n",
       "      <td>64406</td>\n",
       "      <td>0.4458</td>\n",
       "      <td>95786</td>\n",
       "      <td>14665</td>\n",
       "      <td>110189</td>\n",
       "      <td>199948</td>\n",
       "      <td>248600</td>\n",
       "      <td>689400</td>\n",
       "      <td>...</td>\n",
       "      <td>0.32</td>\n",
       "      <td>0.61</td>\n",
       "      <td>0.25</td>\n",
       "      <td>9.68</td>\n",
       "      <td>0.35</td>\n",
       "      <td>0.00</td>\n",
       "      <td>15145548</td>\n",
       "      <td>12388867</td>\n",
       "      <td>266980</td>\n",
       "      <td>49732</td>\n",
       "    </tr>\n",
       "    <tr>\n",
       "      <th>93</th>\n",
       "      <td>12260</td>\n",
       "      <td>Augusta-Richmond County, GA-SC</td>\n",
       "      <td>67152</td>\n",
       "      <td>0.4614</td>\n",
       "      <td>91549</td>\n",
       "      <td>15672</td>\n",
       "      <td>103235</td>\n",
       "      <td>166773</td>\n",
       "      <td>238300</td>\n",
       "      <td>608357</td>\n",
       "      <td>...</td>\n",
       "      <td>0.34</td>\n",
       "      <td>0.56</td>\n",
       "      <td>0.27</td>\n",
       "      <td>10.70</td>\n",
       "      <td>0.00</td>\n",
       "      <td>0.00</td>\n",
       "      <td>8387190</td>\n",
       "      <td>7242278</td>\n",
       "      <td>0</td>\n",
       "      <td>0</td>\n",
       "    </tr>\n",
       "    <tr>\n",
       "      <th>94</th>\n",
       "      <td>41980</td>\n",
       "      <td>San Juan-Bayamón-Caguas, PR</td>\n",
       "      <td>27981</td>\n",
       "      <td>0.5508</td>\n",
       "      <td>738796</td>\n",
       "      <td>65738</td>\n",
       "      <td>360544</td>\n",
       "      <td>566000</td>\n",
       "      <td>145000</td>\n",
       "      <td>2024780</td>\n",
       "      <td>...</td>\n",
       "      <td>0.41</td>\n",
       "      <td>0.39</td>\n",
       "      <td>0.00</td>\n",
       "      <td>20.59</td>\n",
       "      <td>0.00</td>\n",
       "      <td>0.00</td>\n",
       "      <td>0</td>\n",
       "      <td>0</td>\n",
       "      <td>0</td>\n",
       "      <td>0</td>\n",
       "    </tr>\n",
       "  </tbody>\n",
       "</table>\n",
       "<p>95 rows × 30 columns</p>\n",
       "</div>"
      ],
      "text/plain": [
       "    Location ID           Core Base Stastical Area_x  Median Household Income  \\\n",
       "0         31080   Los Angeles-Long Beach-Anaheim, CA                    91960   \n",
       "1         41940   San Jose-Sunnyvale-Santa Clara, CA                   153202   \n",
       "2         41860    San Francisco-Oakland-Fremont, CA                   127792   \n",
       "3         41620            Salt Lake City-Murray, UT                    94409   \n",
       "4         38900  Portland-Vancouver-Hillsboro, OR-WA                    94925   \n",
       "..          ...                                  ...                      ...   \n",
       "90        28940                        Knoxville, TN                    69872   \n",
       "91        12940                      Baton Rouge, LA                    64550   \n",
       "92        49180                    Winston-Salem, NC                    64406   \n",
       "93        12260       Augusta-Richmond County, GA-SC                    67152   \n",
       "94        41980          San Juan-Bayamón-Caguas, PR                    27981   \n",
       "\n",
       "    Income Inequality (Gini)  Number of People in Poverty  \\\n",
       "0                     0.4879                      1585798   \n",
       "1                     0.4811                       143313   \n",
       "2                     0.4985                       416535   \n",
       "3                     0.4339                       116525   \n",
       "4                     0.4490                       227516   \n",
       "..                       ...                          ...   \n",
       "90                    0.4834                       125035   \n",
       "91                    0.4942                       144535   \n",
       "92                    0.4458                        95786   \n",
       "93                    0.4614                        91549   \n",
       "94                    0.5508                       738796   \n",
       "\n",
       "    Number of Unemployed People  \\\n",
       "0                        375952   \n",
       "1                         46430   \n",
       "2                        126782   \n",
       "3                         24607   \n",
       "4                         52753   \n",
       "..                          ...   \n",
       "90                        15056   \n",
       "91                        19730   \n",
       "92                        14665   \n",
       "93                        15672   \n",
       "94                        65738   \n",
       "\n",
       "    Number of People With Educational Attainment (HS+)  \\\n",
       "0                                             1566702    \n",
       "1                                              168418    \n",
       "2                                              435206    \n",
       "3                                              155926    \n",
       "4                                              279491    \n",
       "..                                                ...    \n",
       "90                                             159962    \n",
       "91                                             157412    \n",
       "92                                             110189    \n",
       "93                                             103235    \n",
       "94                                             360544    \n",
       "\n",
       "    Number of Owned Households  Housing Affordability (Median Home Value)  \\\n",
       "0                      2189902                                     867200   \n",
       "1                       374116                                    1393400   \n",
       "2                       975016                                    1105100   \n",
       "3                       306200                                     547500   \n",
       "4                       639150                                     560900   \n",
       "..                         ...                                        ...   \n",
       "90                      271369                                     320700   \n",
       "91                      231880                                     239700   \n",
       "92                      199948                                     248600   \n",
       "93                      166773                                     238300   \n",
       "94                      566000                                     145000   \n",
       "\n",
       "    Number of People with Health Insurance Coverage  ...  \\\n",
       "0                                          12718058  ...   \n",
       "1                                           1935266  ...   \n",
       "2                                           4537102  ...   \n",
       "3                                           1260873  ...   \n",
       "4                                           2492207  ...   \n",
       "..                                              ...  ...   \n",
       "90                                           938331  ...   \n",
       "91                                           856950  ...   \n",
       "92                                           689400  ...   \n",
       "93                                           608357  ...   \n",
       "94                                          2024780  ...   \n",
       "\n",
       "    Percent of Househods with One Automobile  \\\n",
       "0                                       0.30   \n",
       "1                                       0.25   \n",
       "2                                       0.32   \n",
       "3                                       0.27   \n",
       "4                                       0.31   \n",
       "..                                       ...   \n",
       "90                                      0.30   \n",
       "91                                      0.37   \n",
       "92                                      0.32   \n",
       "93                                      0.34   \n",
       "94                                      0.41   \n",
       "\n",
       "    Percent of Households with two or more cars  Percent of Low Wage Workers  \\\n",
       "0                                          0.62                         0.23   \n",
       "1                                          0.71                         0.16   \n",
       "2                                          0.57                         0.17   \n",
       "3                                          0.68                         0.25   \n",
       "4                                          0.62                         0.19   \n",
       "..                                          ...                          ...   \n",
       "90                                         0.63                         0.24   \n",
       "91                                         0.55                         0.25   \n",
       "92                                         0.61                         0.25   \n",
       "93                                         0.56                         0.27   \n",
       "94                                         0.39                         0.00   \n",
       "\n",
       "   Total Network Density  Frequency of Transit Service per square mile  \\\n",
       "0                  24.75                                         90.68   \n",
       "1                  24.44                                         38.83   \n",
       "2                  25.10                                        203.92   \n",
       "3                  19.82                                         29.75   \n",
       "4                  19.73                                         59.85   \n",
       "..                   ...                                           ...   \n",
       "90                 10.08                                         10.32   \n",
       "91                 11.27                                          0.00   \n",
       "92                  9.68                                          0.35   \n",
       "93                 10.70                                          0.00   \n",
       "94                 20.59                                          0.00   \n",
       "\n",
       "    Frequency of transit service per capita  \\\n",
       "0                                      0.01   \n",
       "1                                      0.01   \n",
       "2                                      0.01   \n",
       "3                                      0.00   \n",
       "4                                      0.01   \n",
       "..                                      ...   \n",
       "90                                     0.00   \n",
       "91                                     0.00   \n",
       "92                                     0.00   \n",
       "93                                     0.00   \n",
       "94                                     0.00   \n",
       "\n",
       "    Jobs within 45 minutes auto travel time  \\\n",
       "0                                2481115450   \n",
       "1                                 123977256   \n",
       "2                                 338100994   \n",
       "3                                  59376545   \n",
       "4                                  86732917   \n",
       "..                                      ...   \n",
       "90                                 19360804   \n",
       "91                                 27497651   \n",
       "92                                 15145548   \n",
       "93                                  8387190   \n",
       "94                                        0   \n",
       "\n",
       "    Working age population within 45 minutes auto travel time  \\\n",
       "0                                          2182630214           \n",
       "1                                           110020600           \n",
       "2                                           278699035           \n",
       "3                                            48445666           \n",
       "4                                            69826217           \n",
       "..                                                ...           \n",
       "90                                           15138097           \n",
       "91                                           19792938           \n",
       "92                                           12388867           \n",
       "93                                            7242278           \n",
       "94                                                  0           \n",
       "\n",
       "    Jobs within 45 minutes transit commute  \\\n",
       "0                               1841994646   \n",
       "1                                108046518   \n",
       "2                                542382083   \n",
       "3                                 47440346   \n",
       "4                                 88022223   \n",
       "..                                     ...   \n",
       "90                                 4582430   \n",
       "91                                       0   \n",
       "92                                  266980   \n",
       "93                                       0   \n",
       "94                                       0   \n",
       "\n",
       "    Working age population within 45-minute transit commute  \n",
       "0                                          1349784300        \n",
       "1                                            92036709        \n",
       "2                                           322112055        \n",
       "3                                            29335032        \n",
       "4                                            57456252        \n",
       "..                                                ...        \n",
       "90                                            2269960        \n",
       "91                                                  0        \n",
       "92                                              49732        \n",
       "93                                                  0        \n",
       "94                                                  0        \n",
       "\n",
       "[95 rows x 30 columns]"
      ]
     },
     "execution_count": 5,
     "metadata": {},
     "output_type": "execute_result"
    }
   ],
   "source": [
    "'''\n",
    "This last code snippet/function will be used to append the two main dataframes into a single pandas dataframe/csv that wil help us\n",
    "draw the insights on a easier way by making correlations easier to find.\n",
    "'''\n",
    "\n",
    "def finalDataFrame(csv_1, csv_2):\n",
    "    df1 = pd.read_csv(csv_1)\n",
    "    df2 = pd.read_csv(csv_2)\n",
    "    final_dataframe = pd.merge(df1, df2, on=\"Location ID\", how=\"inner\")#reminds me of SQL LOL.\n",
    "    final_dataframe.drop(columns=\"Total Population\", inplace= True)\n",
    "    final_dataframe.to_csv(\"Merged_data.csv\")\n",
    "    return final_dataframe\n",
    "finalDataFrame(\"clean_census_data.csv\", \"EPA_SmartLocationDatabase_V3_cleaned.csv\")\n"
   ]
  },
  {
   "cell_type": "code",
   "execution_count": null,
   "metadata": {},
   "outputs": [],
   "source": []
  },
  {
   "cell_type": "code",
   "execution_count": 6,
   "metadata": {},
   "outputs": [
    {
     "data": {
      "text/html": [
       "<div>\n",
       "<style scoped>\n",
       "    .dataframe tbody tr th:only-of-type {\n",
       "        vertical-align: middle;\n",
       "    }\n",
       "\n",
       "    .dataframe tbody tr th {\n",
       "        vertical-align: top;\n",
       "    }\n",
       "\n",
       "    .dataframe thead th {\n",
       "        text-align: right;\n",
       "    }\n",
       "</style>\n",
       "<table border=\"1\" class=\"dataframe\">\n",
       "  <thead>\n",
       "    <tr style=\"text-align: right;\">\n",
       "      <th></th>\n",
       "      <th>Unnamed: 0</th>\n",
       "      <th>Location ID</th>\n",
       "      <th>Core Base Stastical Area_x</th>\n",
       "      <th>Median Household Income</th>\n",
       "      <th>Income Inequality (Gini)</th>\n",
       "      <th>Number of Owned Households</th>\n",
       "      <th>Housing Affordability (Median Home Value)</th>\n",
       "      <th>Final Total Population</th>\n",
       "      <th>Total Employment</th>\n",
       "      <th>National Walkability Index</th>\n",
       "      <th>...</th>\n",
       "      <th>Jobs within 45 minutes auto travel time</th>\n",
       "      <th>Working age population within 45 minutes auto travel time</th>\n",
       "      <th>Jobs within 45 minutes transit commute</th>\n",
       "      <th>Working age population within 45-minute transit commute</th>\n",
       "      <th>Percentage of People in Poverty</th>\n",
       "      <th>Percentage of Unemployed People</th>\n",
       "      <th>Percentage of People With Educational Attainment (HS+)</th>\n",
       "      <th>Percentage of People with Health Insurance Coverage</th>\n",
       "      <th>Percentage of People Using public Transportation</th>\n",
       "      <th>Percentage of People With Internet Access</th>\n",
       "    </tr>\n",
       "  </thead>\n",
       "  <tbody>\n",
       "    <tr>\n",
       "      <th>0</th>\n",
       "      <td>0</td>\n",
       "      <td>31080</td>\n",
       "      <td>Los Angeles-Long Beach-Anaheim, CA</td>\n",
       "      <td>91960</td>\n",
       "      <td>0.4879</td>\n",
       "      <td>2189902</td>\n",
       "      <td>867200</td>\n",
       "      <td>12799100</td>\n",
       "      <td>6249699</td>\n",
       "      <td>13.48</td>\n",
       "      <td>...</td>\n",
       "      <td>2481115450</td>\n",
       "      <td>2182630214</td>\n",
       "      <td>1841994646</td>\n",
       "      <td>1349784300</td>\n",
       "      <td>0.123899</td>\n",
       "      <td>0.029373</td>\n",
       "      <td>0.122407</td>\n",
       "      <td>0.993668</td>\n",
       "      <td>0.016446</td>\n",
       "      <td>0.354947</td>\n",
       "    </tr>\n",
       "    <tr>\n",
       "      <th>1</th>\n",
       "      <td>1</td>\n",
       "      <td>41940</td>\n",
       "      <td>San Jose-Sunnyvale-Santa Clara, CA</td>\n",
       "      <td>153202</td>\n",
       "      <td>0.4811</td>\n",
       "      <td>374116</td>\n",
       "      <td>1393400</td>\n",
       "      <td>1945767</td>\n",
       "      <td>1077279</td>\n",
       "      <td>13.44</td>\n",
       "      <td>...</td>\n",
       "      <td>123977256</td>\n",
       "      <td>110020600</td>\n",
       "      <td>108046518</td>\n",
       "      <td>92036709</td>\n",
       "      <td>0.073654</td>\n",
       "      <td>0.023862</td>\n",
       "      <td>0.086556</td>\n",
       "      <td>0.994603</td>\n",
       "      <td>0.014771</td>\n",
       "      <td>0.352428</td>\n",
       "    </tr>\n",
       "    <tr>\n",
       "      <th>2</th>\n",
       "      <td>2</td>\n",
       "      <td>41860</td>\n",
       "      <td>San Francisco-Oakland-Fremont, CA</td>\n",
       "      <td>127792</td>\n",
       "      <td>0.4985</td>\n",
       "      <td>975016</td>\n",
       "      <td>1105100</td>\n",
       "      <td>4566961</td>\n",
       "      <td>2400290</td>\n",
       "      <td>13.14</td>\n",
       "      <td>...</td>\n",
       "      <td>338100994</td>\n",
       "      <td>278699035</td>\n",
       "      <td>542382083</td>\n",
       "      <td>322112055</td>\n",
       "      <td>0.091206</td>\n",
       "      <td>0.027761</td>\n",
       "      <td>0.095294</td>\n",
       "      <td>0.993462</td>\n",
       "      <td>0.051906</td>\n",
       "      <td>0.386135</td>\n",
       "    </tr>\n",
       "    <tr>\n",
       "      <th>3</th>\n",
       "      <td>3</td>\n",
       "      <td>41620</td>\n",
       "      <td>Salt Lake City-Murray, UT</td>\n",
       "      <td>94409</td>\n",
       "      <td>0.4339</td>\n",
       "      <td>306200</td>\n",
       "      <td>547500</td>\n",
       "      <td>1267864</td>\n",
       "      <td>689888</td>\n",
       "      <td>13.13</td>\n",
       "      <td>...</td>\n",
       "      <td>59376545</td>\n",
       "      <td>48445666</td>\n",
       "      <td>47440346</td>\n",
       "      <td>29335032</td>\n",
       "      <td>0.091907</td>\n",
       "      <td>0.019408</td>\n",
       "      <td>0.122983</td>\n",
       "      <td>0.994486</td>\n",
       "      <td>0.010083</td>\n",
       "      <td>0.363586</td>\n",
       "    </tr>\n",
       "    <tr>\n",
       "      <th>4</th>\n",
       "      <td>4</td>\n",
       "      <td>38900</td>\n",
       "      <td>Portland-Vancouver-Hillsboro, OR-WA</td>\n",
       "      <td>94925</td>\n",
       "      <td>0.4490</td>\n",
       "      <td>639150</td>\n",
       "      <td>560900</td>\n",
       "      <td>2509925</td>\n",
       "      <td>1165042</td>\n",
       "      <td>12.75</td>\n",
       "      <td>...</td>\n",
       "      <td>86732917</td>\n",
       "      <td>69826217</td>\n",
       "      <td>88022223</td>\n",
       "      <td>57456252</td>\n",
       "      <td>0.090647</td>\n",
       "      <td>0.021018</td>\n",
       "      <td>0.111354</td>\n",
       "      <td>0.992941</td>\n",
       "      <td>0.015818</td>\n",
       "      <td>0.409833</td>\n",
       "    </tr>\n",
       "    <tr>\n",
       "      <th>...</th>\n",
       "      <td>...</td>\n",
       "      <td>...</td>\n",
       "      <td>...</td>\n",
       "      <td>...</td>\n",
       "      <td>...</td>\n",
       "      <td>...</td>\n",
       "      <td>...</td>\n",
       "      <td>...</td>\n",
       "      <td>...</td>\n",
       "      <td>...</td>\n",
       "      <td>...</td>\n",
       "      <td>...</td>\n",
       "      <td>...</td>\n",
       "      <td>...</td>\n",
       "      <td>...</td>\n",
       "      <td>...</td>\n",
       "      <td>...</td>\n",
       "      <td>...</td>\n",
       "      <td>...</td>\n",
       "      <td>...</td>\n",
       "      <td>...</td>\n",
       "    </tr>\n",
       "    <tr>\n",
       "      <th>90</th>\n",
       "      <td>90</td>\n",
       "      <td>28940</td>\n",
       "      <td>Knoxville, TN</td>\n",
       "      <td>69872</td>\n",
       "      <td>0.4834</td>\n",
       "      <td>271369</td>\n",
       "      <td>320700</td>\n",
       "      <td>947017</td>\n",
       "      <td>386588</td>\n",
       "      <td>7.07</td>\n",
       "      <td>...</td>\n",
       "      <td>19360804</td>\n",
       "      <td>15138097</td>\n",
       "      <td>4582430</td>\n",
       "      <td>2269960</td>\n",
       "      <td>0.132030</td>\n",
       "      <td>0.015898</td>\n",
       "      <td>0.168911</td>\n",
       "      <td>0.990828</td>\n",
       "      <td>0.002236</td>\n",
       "      <td>0.402293</td>\n",
       "    </tr>\n",
       "    <tr>\n",
       "      <th>91</th>\n",
       "      <td>91</td>\n",
       "      <td>12940</td>\n",
       "      <td>Baton Rouge, LA</td>\n",
       "      <td>64550</td>\n",
       "      <td>0.4942</td>\n",
       "      <td>231880</td>\n",
       "      <td>239700</td>\n",
       "      <td>873661</td>\n",
       "      <td>403005</td>\n",
       "      <td>6.43</td>\n",
       "      <td>...</td>\n",
       "      <td>27497651</td>\n",
       "      <td>19792938</td>\n",
       "      <td>0</td>\n",
       "      <td>0</td>\n",
       "      <td>0.165436</td>\n",
       "      <td>0.022583</td>\n",
       "      <td>0.180175</td>\n",
       "      <td>0.980872</td>\n",
       "      <td>0.003893</td>\n",
       "      <td>0.382759</td>\n",
       "    </tr>\n",
       "    <tr>\n",
       "      <th>92</th>\n",
       "      <td>92</td>\n",
       "      <td>49180</td>\n",
       "      <td>Winston-Salem, NC</td>\n",
       "      <td>64406</td>\n",
       "      <td>0.4458</td>\n",
       "      <td>199948</td>\n",
       "      <td>248600</td>\n",
       "      <td>695630</td>\n",
       "      <td>263863</td>\n",
       "      <td>6.43</td>\n",
       "      <td>...</td>\n",
       "      <td>15145548</td>\n",
       "      <td>12388867</td>\n",
       "      <td>266980</td>\n",
       "      <td>49732</td>\n",
       "      <td>0.137697</td>\n",
       "      <td>0.021082</td>\n",
       "      <td>0.158402</td>\n",
       "      <td>0.991044</td>\n",
       "      <td>0.002280</td>\n",
       "      <td>0.420032</td>\n",
       "    </tr>\n",
       "    <tr>\n",
       "      <th>93</th>\n",
       "      <td>93</td>\n",
       "      <td>12260</td>\n",
       "      <td>Augusta-Richmond County, GA-SC</td>\n",
       "      <td>67152</td>\n",
       "      <td>0.4614</td>\n",
       "      <td>166773</td>\n",
       "      <td>238300</td>\n",
       "      <td>628186</td>\n",
       "      <td>215505</td>\n",
       "      <td>6.40</td>\n",
       "      <td>...</td>\n",
       "      <td>8387190</td>\n",
       "      <td>7242278</td>\n",
       "      <td>0</td>\n",
       "      <td>0</td>\n",
       "      <td>0.145735</td>\n",
       "      <td>0.024948</td>\n",
       "      <td>0.164338</td>\n",
       "      <td>0.968435</td>\n",
       "      <td>0.003639</td>\n",
       "      <td>0.376275</td>\n",
       "    </tr>\n",
       "    <tr>\n",
       "      <th>94</th>\n",
       "      <td>94</td>\n",
       "      <td>41980</td>\n",
       "      <td>San Juan-Bayamón-Caguas, PR</td>\n",
       "      <td>27981</td>\n",
       "      <td>0.5508</td>\n",
       "      <td>566000</td>\n",
       "      <td>145000</td>\n",
       "      <td>2037875</td>\n",
       "      <td>0</td>\n",
       "      <td>4.95</td>\n",
       "      <td>...</td>\n",
       "      <td>0</td>\n",
       "      <td>0</td>\n",
       "      <td>0</td>\n",
       "      <td>0</td>\n",
       "      <td>0.362533</td>\n",
       "      <td>0.032258</td>\n",
       "      <td>0.176922</td>\n",
       "      <td>0.993574</td>\n",
       "      <td>0.005306</td>\n",
       "      <td>0.406071</td>\n",
       "    </tr>\n",
       "  </tbody>\n",
       "</table>\n",
       "<p>95 rows × 30 columns</p>\n",
       "</div>"
      ],
      "text/plain": [
       "    Unnamed: 0  Location ID           Core Base Stastical Area_x  \\\n",
       "0            0        31080   Los Angeles-Long Beach-Anaheim, CA   \n",
       "1            1        41940   San Jose-Sunnyvale-Santa Clara, CA   \n",
       "2            2        41860    San Francisco-Oakland-Fremont, CA   \n",
       "3            3        41620            Salt Lake City-Murray, UT   \n",
       "4            4        38900  Portland-Vancouver-Hillsboro, OR-WA   \n",
       "..         ...          ...                                  ...   \n",
       "90          90        28940                        Knoxville, TN   \n",
       "91          91        12940                      Baton Rouge, LA   \n",
       "92          92        49180                    Winston-Salem, NC   \n",
       "93          93        12260       Augusta-Richmond County, GA-SC   \n",
       "94          94        41980          San Juan-Bayamón-Caguas, PR   \n",
       "\n",
       "    Median Household Income  Income Inequality (Gini)  \\\n",
       "0                     91960                    0.4879   \n",
       "1                    153202                    0.4811   \n",
       "2                    127792                    0.4985   \n",
       "3                     94409                    0.4339   \n",
       "4                     94925                    0.4490   \n",
       "..                      ...                       ...   \n",
       "90                    69872                    0.4834   \n",
       "91                    64550                    0.4942   \n",
       "92                    64406                    0.4458   \n",
       "93                    67152                    0.4614   \n",
       "94                    27981                    0.5508   \n",
       "\n",
       "    Number of Owned Households  Housing Affordability (Median Home Value)  \\\n",
       "0                      2189902                                     867200   \n",
       "1                       374116                                    1393400   \n",
       "2                       975016                                    1105100   \n",
       "3                       306200                                     547500   \n",
       "4                       639150                                     560900   \n",
       "..                         ...                                        ...   \n",
       "90                      271369                                     320700   \n",
       "91                      231880                                     239700   \n",
       "92                      199948                                     248600   \n",
       "93                      166773                                     238300   \n",
       "94                      566000                                     145000   \n",
       "\n",
       "    Final Total Population  Total Employment  National Walkability Index  ...  \\\n",
       "0                 12799100           6249699                       13.48  ...   \n",
       "1                  1945767           1077279                       13.44  ...   \n",
       "2                  4566961           2400290                       13.14  ...   \n",
       "3                  1267864            689888                       13.13  ...   \n",
       "4                  2509925           1165042                       12.75  ...   \n",
       "..                     ...               ...                         ...  ...   \n",
       "90                  947017            386588                        7.07  ...   \n",
       "91                  873661            403005                        6.43  ...   \n",
       "92                  695630            263863                        6.43  ...   \n",
       "93                  628186            215505                        6.40  ...   \n",
       "94                 2037875                 0                        4.95  ...   \n",
       "\n",
       "    Jobs within 45 minutes auto travel time  \\\n",
       "0                                2481115450   \n",
       "1                                 123977256   \n",
       "2                                 338100994   \n",
       "3                                  59376545   \n",
       "4                                  86732917   \n",
       "..                                      ...   \n",
       "90                                 19360804   \n",
       "91                                 27497651   \n",
       "92                                 15145548   \n",
       "93                                  8387190   \n",
       "94                                        0   \n",
       "\n",
       "    Working age population within 45 minutes auto travel time  \\\n",
       "0                                          2182630214           \n",
       "1                                           110020600           \n",
       "2                                           278699035           \n",
       "3                                            48445666           \n",
       "4                                            69826217           \n",
       "..                                                ...           \n",
       "90                                           15138097           \n",
       "91                                           19792938           \n",
       "92                                           12388867           \n",
       "93                                            7242278           \n",
       "94                                                  0           \n",
       "\n",
       "    Jobs within 45 minutes transit commute  \\\n",
       "0                               1841994646   \n",
       "1                                108046518   \n",
       "2                                542382083   \n",
       "3                                 47440346   \n",
       "4                                 88022223   \n",
       "..                                     ...   \n",
       "90                                 4582430   \n",
       "91                                       0   \n",
       "92                                  266980   \n",
       "93                                       0   \n",
       "94                                       0   \n",
       "\n",
       "    Working age population within 45-minute transit commute  \\\n",
       "0                                          1349784300         \n",
       "1                                            92036709         \n",
       "2                                           322112055         \n",
       "3                                            29335032         \n",
       "4                                            57456252         \n",
       "..                                                ...         \n",
       "90                                            2269960         \n",
       "91                                                  0         \n",
       "92                                              49732         \n",
       "93                                                  0         \n",
       "94                                                  0         \n",
       "\n",
       "    Percentage of People in Poverty  Percentage of Unemployed People  \\\n",
       "0                          0.123899                         0.029373   \n",
       "1                          0.073654                         0.023862   \n",
       "2                          0.091206                         0.027761   \n",
       "3                          0.091907                         0.019408   \n",
       "4                          0.090647                         0.021018   \n",
       "..                              ...                              ...   \n",
       "90                         0.132030                         0.015898   \n",
       "91                         0.165436                         0.022583   \n",
       "92                         0.137697                         0.021082   \n",
       "93                         0.145735                         0.024948   \n",
       "94                         0.362533                         0.032258   \n",
       "\n",
       "    Percentage of People With Educational Attainment (HS+)  \\\n",
       "0                                            0.122407        \n",
       "1                                            0.086556        \n",
       "2                                            0.095294        \n",
       "3                                            0.122983        \n",
       "4                                            0.111354        \n",
       "..                                                ...        \n",
       "90                                           0.168911        \n",
       "91                                           0.180175        \n",
       "92                                           0.158402        \n",
       "93                                           0.164338        \n",
       "94                                           0.176922        \n",
       "\n",
       "    Percentage of People with Health Insurance Coverage  \\\n",
       "0                                            0.993668     \n",
       "1                                            0.994603     \n",
       "2                                            0.993462     \n",
       "3                                            0.994486     \n",
       "4                                            0.992941     \n",
       "..                                                ...     \n",
       "90                                           0.990828     \n",
       "91                                           0.980872     \n",
       "92                                           0.991044     \n",
       "93                                           0.968435     \n",
       "94                                           0.993574     \n",
       "\n",
       "    Percentage of People Using public Transportation  \\\n",
       "0                                           0.016446   \n",
       "1                                           0.014771   \n",
       "2                                           0.051906   \n",
       "3                                           0.010083   \n",
       "4                                           0.015818   \n",
       "..                                               ...   \n",
       "90                                          0.002236   \n",
       "91                                          0.003893   \n",
       "92                                          0.002280   \n",
       "93                                          0.003639   \n",
       "94                                          0.005306   \n",
       "\n",
       "    Percentage of People With Internet Access  \n",
       "0                                    0.354947  \n",
       "1                                    0.352428  \n",
       "2                                    0.386135  \n",
       "3                                    0.363586  \n",
       "4                                    0.409833  \n",
       "..                                        ...  \n",
       "90                                   0.402293  \n",
       "91                                   0.382759  \n",
       "92                                   0.420032  \n",
       "93                                   0.376275  \n",
       "94                                   0.406071  \n",
       "\n",
       "[95 rows x 30 columns]"
      ]
     },
     "execution_count": 6,
     "metadata": {},
     "output_type": "execute_result"
    }
   ],
   "source": [
    "import pandas as pd\n",
    "def percentageconverter():\n",
    "  df = pd.read_csv(\"Merged_data.csv\")\n",
    "  #Lets create this loop to make the calculations super fast and easy\n",
    "  number_columns = [\"Number of People in Poverty\", \"Number of Unemployed People\", \"Number of People With Educational Attainment (HS+)\", \n",
    "                    \"Number of People with Health Insurance Coverage\", \"Number of People Using public Transportation\",\n",
    "                    \"Number of People With Internet Access\"]\n",
    "  for col in number_columns:\n",
    "      new_col = col.replace(\"Number of\", \"Percentage of\")\n",
    "      df[new_col] = df[col] / df[\"Final Total Population\"] #Dividing this number columns by the estimated Total Population data.\n",
    "      df.drop(columns=col, inplace= True)\n",
    "  df.drop( columns=\"Core Base Stastical Area_y\", inplace= True)\n",
    "  df.to_csv(\"Merged_data.csv\", index=False)\n",
    "  return df\n",
    "    \n",
    "\n",
    "\n",
    "\n",
    "############ Function Call ############\n",
    "percentageconverter()"
   ]
  },
  {
   "cell_type": "markdown",
   "metadata": {},
   "source": [
    "\n",
    "\n",
    "This insight of the project focuses on the logical and statistical considerations of the analysis. As outlined in the project description, I am working with standardized geographical areas across the United States, specifically urban and metropolitan regions. However, these areas vary significantly in population size, which introduces a key challenge in ensuring comparability.<br>\n",
    "\n",
    "Additionally, one limitation of the data retrieved from the Census Bureau API is that much of the quantitative information is presented as absolute numbers (e.g., total counts of populations meeting specific criteria) rather than percentages relative to each CBSA's total population. To address this, I will perform data manipulation to calculate these percentages, ensuring that the insights derived from the analysis are both more meaningful and accurate."
   ]
  },
  {
   "cell_type": "markdown",
   "metadata": {
    "id": "E5IgIeLI9Kw2"
   },
   "source": [
    "#Inconsistency Revisions\n",
    " **If you were requested to revise your inconsistency section from Phase II, enter your responses here. Otherwise, ignore this section.**\n",
    "\n",
    "For each inconsistency (NaN, null, duplicate values, empty strings, etc.) you discover in your datasets, write at least 2 sentences stating the significance, how you identified it, and how you handled it.\n",
    "\n",
    "1. \n",
    "\n",
    "2. \n",
    "\n",
    "3. \n",
    "\n",
    "4. (if applicable)\n",
    "\n",
    "5. (if applicable)\n"
   ]
  },
  {
   "cell_type": "markdown",
   "metadata": {
    "id": "8SQxJGDUs1gw"
   },
   "source": [
    "## Data Sources\n",
    "\n",
    "Include sources (as links) to your datasets. If any of these are different from your sources used in Phase II, please <b>clearly</b> specify.\n",
    "\n",
    "*   Downloaded Dataset Source: https://edg.epa.gov/EPADataCommons/public/OA/EPA_SmartLocationDatabase_V3_Jan_2021_Final.csv\n",
    "*   Web Collection #1 Source: https://api.census.gov/data/2023/acs/acs1?get=NAME,group(B01001)&for=us:1\n",
    "*   Web Collection #2 Source: https://www.theurbanist.org/2023/01/28/report-ranking-us-metros-shows-walkable-urbanism-pays-dividends/\n",
    "\n"
   ]
  },
  {
   "cell_type": "markdown",
   "metadata": {
    "id": "A-CWo6kwvFvS"
   },
   "source": [
    "# Data Analysis\n",
    "For the Data Analysis section, you are required to utilize your data to complete the following:\n",
    "\n",
    "*   Create at least 5 insights\n",
    "*   Generate at least 3 data visualizations\n",
    "\n",
    "Create a function for each of the following sections mentioned above. Do not forget to fill out the explanation section for each function. \n",
    "\n",
    "Make sure your data analysis is not too simple. Performing complex aggregation and using modules not taught in class shows effort, which will increase the chance of receiving full credit. "
   ]
  },
  {
   "cell_type": "markdown",
   "metadata": {
    "id": "7GzggCBoxwGA"
   },
   "source": [
    "# Topic Summary\n",
    "\n",
    "In progressive academic and social circles, it is widely recognized that walkability and access to public transportation enhance the overall quality of life for communities. Despite this, many urban and infrastructure developers in the United States continue to prioritize car-centric designs over pedestrian-friendly planning.<br>This project aims to explore the correlation between walkable, transit-oriented infrastructure and key economic and social indicators that serve as measurable proxies for general well-being. The analysis is based on data extracted from government databases, focusing on geographically consistent units (Core Statistical Base Areas, or CBSAs) to ensure precision and reliability.\n"
   ]
  },
  {
   "cell_type": "markdown",
   "metadata": {
    "id": "VWv36q-Owkbi"
   },
   "source": [
    "## Insights"
   ]
  },
  {
   "cell_type": "code",
   "execution_count": 7,
   "metadata": {
    "id": "mJe4pMRgwuC5"
   },
   "outputs": [
    {
     "name": "stdout",
     "output_type": "stream",
     "text": [
      "Public Transportation Index vs. National Walkability Index Correlations:\n",
      "Pearson Correlation: 0.7694650783590092, P-value: 8.301505395779317e-20.\n",
      "Spearman Correlation: 0.8189415627486619, P-value:3.7256787143649435e-24.\n"
     ]
    },
    {
     "data": {
      "text/html": [
       "<div>\n",
       "<style scoped>\n",
       "    .dataframe tbody tr th:only-of-type {\n",
       "        vertical-align: middle;\n",
       "    }\n",
       "\n",
       "    .dataframe tbody tr th {\n",
       "        vertical-align: top;\n",
       "    }\n",
       "\n",
       "    .dataframe thead th {\n",
       "        text-align: right;\n",
       "    }\n",
       "</style>\n",
       "<table border=\"1\" class=\"dataframe\">\n",
       "  <thead>\n",
       "    <tr style=\"text-align: right;\">\n",
       "      <th></th>\n",
       "      <th>Location ID</th>\n",
       "      <th>Core Base Stastical Area_x</th>\n",
       "      <th>National Walkability Index</th>\n",
       "      <th>Public Transportation Index</th>\n",
       "    </tr>\n",
       "  </thead>\n",
       "  <tbody>\n",
       "    <tr>\n",
       "      <th>0</th>\n",
       "      <td>31080</td>\n",
       "      <td>Los Angeles-Long Beach-Anaheim, CA</td>\n",
       "      <td>13.48</td>\n",
       "      <td>8.26</td>\n",
       "    </tr>\n",
       "    <tr>\n",
       "      <th>1</th>\n",
       "      <td>41940</td>\n",
       "      <td>San Jose-Sunnyvale-Santa Clara, CA</td>\n",
       "      <td>13.44</td>\n",
       "      <td>8.15</td>\n",
       "    </tr>\n",
       "    <tr>\n",
       "      <th>2</th>\n",
       "      <td>41860</td>\n",
       "      <td>San Francisco-Oakland-Fremont, CA</td>\n",
       "      <td>13.14</td>\n",
       "      <td>8.39</td>\n",
       "    </tr>\n",
       "    <tr>\n",
       "      <th>3</th>\n",
       "      <td>41620</td>\n",
       "      <td>Salt Lake City-Murray, UT</td>\n",
       "      <td>13.13</td>\n",
       "      <td>6.61</td>\n",
       "    </tr>\n",
       "    <tr>\n",
       "      <th>4</th>\n",
       "      <td>38900</td>\n",
       "      <td>Portland-Vancouver-Hillsboro, OR-WA</td>\n",
       "      <td>12.75</td>\n",
       "      <td>6.59</td>\n",
       "    </tr>\n",
       "    <tr>\n",
       "      <th>...</th>\n",
       "      <td>...</td>\n",
       "      <td>...</td>\n",
       "      <td>...</td>\n",
       "      <td>...</td>\n",
       "    </tr>\n",
       "    <tr>\n",
       "      <th>90</th>\n",
       "      <td>28940</td>\n",
       "      <td>Knoxville, TN</td>\n",
       "      <td>7.07</td>\n",
       "      <td>3.36</td>\n",
       "    </tr>\n",
       "    <tr>\n",
       "      <th>91</th>\n",
       "      <td>12940</td>\n",
       "      <td>Baton Rouge, LA</td>\n",
       "      <td>6.43</td>\n",
       "      <td>3.76</td>\n",
       "    </tr>\n",
       "    <tr>\n",
       "      <th>92</th>\n",
       "      <td>49180</td>\n",
       "      <td>Winston-Salem, NC</td>\n",
       "      <td>6.43</td>\n",
       "      <td>3.23</td>\n",
       "    </tr>\n",
       "    <tr>\n",
       "      <th>93</th>\n",
       "      <td>12260</td>\n",
       "      <td>Augusta-Richmond County, GA-SC</td>\n",
       "      <td>6.40</td>\n",
       "      <td>3.57</td>\n",
       "    </tr>\n",
       "    <tr>\n",
       "      <th>94</th>\n",
       "      <td>41980</td>\n",
       "      <td>San Juan-Bayamón-Caguas, PR</td>\n",
       "      <td>4.95</td>\n",
       "      <td>6.87</td>\n",
       "    </tr>\n",
       "  </tbody>\n",
       "</table>\n",
       "<p>95 rows × 4 columns</p>\n",
       "</div>"
      ],
      "text/plain": [
       "    Location ID           Core Base Stastical Area_x  \\\n",
       "0         31080   Los Angeles-Long Beach-Anaheim, CA   \n",
       "1         41940   San Jose-Sunnyvale-Santa Clara, CA   \n",
       "2         41860    San Francisco-Oakland-Fremont, CA   \n",
       "3         41620            Salt Lake City-Murray, UT   \n",
       "4         38900  Portland-Vancouver-Hillsboro, OR-WA   \n",
       "..          ...                                  ...   \n",
       "90        28940                        Knoxville, TN   \n",
       "91        12940                      Baton Rouge, LA   \n",
       "92        49180                    Winston-Salem, NC   \n",
       "93        12260       Augusta-Richmond County, GA-SC   \n",
       "94        41980          San Juan-Bayamón-Caguas, PR   \n",
       "\n",
       "    National Walkability Index  Public Transportation Index  \n",
       "0                        13.48                         8.26  \n",
       "1                        13.44                         8.15  \n",
       "2                        13.14                         8.39  \n",
       "3                        13.13                         6.61  \n",
       "4                        12.75                         6.59  \n",
       "..                         ...                          ...  \n",
       "90                        7.07                         3.36  \n",
       "91                        6.43                         3.76  \n",
       "92                        6.43                         3.23  \n",
       "93                        6.40                         3.57  \n",
       "94                        4.95                         6.87  \n",
       "\n",
       "[95 rows x 4 columns]"
      ]
     },
     "execution_count": 7,
     "metadata": {},
     "output_type": "execute_result"
    }
   ],
   "source": [
    "import pandas as pd\n",
    "from scipy.stats import pearsonr, spearmanr\n",
    "#The purpose of this insight is too find is there is a direct correlation between walkability and access to public transportatio\n",
    "def insight1():\n",
    "  df = pd.read_csv(\"Merged_data.csv\")\n",
    "  #Now I am going to calculate a Transportation Index by averaging together together all the percentages related to this area\n",
    "  df[\"Public Transportation Index\"] = (\n",
    "      df[\"Frequency of transit service per capita\"] * 1/3 +\n",
    "      df[\"Percentage of People Using public Transportation\"] * 1/3 +\n",
    "      df[\"Total Network Density\"] * 1/3\n",
    ")\n",
    "  df[\"Public Transportation Index\"] = df[\"Public Transportation Index\"].round(2)\n",
    "# I am going to compute the correlation and the P-values for national walkability index and the newly created Public Transportation Index I created\n",
    "# I am not stastician but calculated this value should be a good start for realizing if there is a tanglible correlation between this indeces\n",
    "  pearson_corr,pearson_pvalue = pearsonr(\n",
    "    df[\"National Walkability Index\"],\n",
    "    df[\"Public Transportation Index\"]\n",
    "  )\n",
    "  spearman_corr, spearman_pvalue = spearmanr(\n",
    "    df[\"National Walkability Index\"],\n",
    "    df[\"Public Transportation Index\"]\n",
    "  )\n",
    "  # I am going to return the result after using the stats module\n",
    "  stats_result = \"Public Transportation Index vs. National Walkability Index Correlations:\\n\"+ f\"Pearson Correlation: {pearson_corr}, P-value: {pearson_pvalue}.\\n\"+ f\"Spearman Correlation: {spearman_corr}, P-value:{spearman_pvalue}.\"\n",
    "  transportationIndexdf = df[[\"Location ID\",\"Core Base Stastical Area_x\",\"National Walkability Index\", \"Public Transportation Index\"]]\n",
    "  df.to_csv(\"Merged_data.csv\", index= False)#write the new column to the Merged_data.csv\n",
    "  transportationIndexdf.to_csv('transportation_correlation.csv') #Wrote this csv file in order to make the data visualiztion process easier and I clarly observe a strong correlation.\n",
    "  print(stats_result)\n",
    "  return transportationIndexdf\n",
    "\n",
    "  \n",
    "\n",
    "\n",
    "############ Function Call ############\n",
    "insight1()"
   ]
  },
  {
   "cell_type": "markdown",
   "metadata": {
    "id": "P08Se47bxG5d"
   },
   "source": [
    "## Insight 1 Explanation\n",
    "\n",
    "### Does better public transportation access implies better walkability?\n",
    "\n",
    "For this insight, I aimed to identify a strong or direct correlation between walkability and transportation indices, based on the common assumption that access to public transportation improves walkability by reducing the reliance on cars for urban mobility.\n",
    "\n",
    "To test this, I first created a custom \"Public Transportation Index\" by averaging data from three relevant indicators selected from my database. These indicators were chosen for their relevance in estimating the relationship between public transportation access and walkability.\n",
    "\n",
    "Using Python's scipy library, I employed the pearsonr and spearmanr modules to measure both the linear (Pearson correlation) and monotonic (Spearman correlation) relationships between the Public Transportation Index and the National Walkability Index. Both correlation coefficients (r-values) fell within the range [0.7, 1.0], indicating a strong positive correlation between these factors.\n",
    "\n",
    "To further illustrate this relationship, I organized the data into a DataFrame and exported it as a CSV file for additional analysis and visualization.\n",
    "\n",
    "In conclusion I would say that better public transportation systems does imply that the area is more walkable."
   ]
  },
  {
   "cell_type": "code",
   "execution_count": 8,
   "metadata": {
    "id": "00EurEXJwvxf"
   },
   "outputs": [
    {
     "name": "stdout",
     "output_type": "stream",
     "text": [
      "Final Total Population vs. National Walkability Index:\n",
      "{'Pearson Correlation': 0.37064867728264145, 'Spearman Correlation': 0.3656355755485196}\n",
      "Final Total Population vs. National Walkability Index:\n",
      "{'Pearson Correlation': 0.529616609498508, 'Spearman Correlation': 0.5527571015786098}\n"
     ]
    },
    {
     "name": "stderr",
     "output_type": "stream",
     "text": [
      "/var/folders/0x/h5kq9h6n17v96z2zwdwrhg2c0000gn/T/ipykernel_3106/2338823320.py:11: SettingWithCopyWarning: \n",
      "A value is trying to be set on a copy of a slice from a DataFrame\n",
      "\n",
      "See the caveats in the documentation: https://pandas.pydata.org/pandas-docs/stable/user_guide/indexing.html#returning-a-view-versus-a-copy\n",
      "  populationdf.sort_values(by=\"Final Total Population\", ascending= False, inplace=True)\n"
     ]
    },
    {
     "data": {
      "text/html": [
       "<div>\n",
       "<style scoped>\n",
       "    .dataframe tbody tr th:only-of-type {\n",
       "        vertical-align: middle;\n",
       "    }\n",
       "\n",
       "    .dataframe tbody tr th {\n",
       "        vertical-align: top;\n",
       "    }\n",
       "\n",
       "    .dataframe thead th {\n",
       "        text-align: right;\n",
       "    }\n",
       "</style>\n",
       "<table border=\"1\" class=\"dataframe\">\n",
       "  <thead>\n",
       "    <tr style=\"text-align: right;\">\n",
       "      <th></th>\n",
       "      <th>Location ID</th>\n",
       "      <th>Core Base Stastical Area_x</th>\n",
       "      <th>Final Total Population</th>\n",
       "      <th>National Walkability Index</th>\n",
       "      <th>Public Transportation Index</th>\n",
       "    </tr>\n",
       "  </thead>\n",
       "  <tbody>\n",
       "    <tr>\n",
       "      <th>6</th>\n",
       "      <td>35620</td>\n",
       "      <td>New York-Newark-Jersey City, NY-NJ</td>\n",
       "      <td>19498249</td>\n",
       "      <td>12.58</td>\n",
       "      <td>8.17</td>\n",
       "    </tr>\n",
       "    <tr>\n",
       "      <th>0</th>\n",
       "      <td>31080</td>\n",
       "      <td>Los Angeles-Long Beach-Anaheim, CA</td>\n",
       "      <td>12799100</td>\n",
       "      <td>13.48</td>\n",
       "      <td>8.26</td>\n",
       "    </tr>\n",
       "    <tr>\n",
       "      <th>14</th>\n",
       "      <td>16980</td>\n",
       "      <td>Chicago-Naperville-Elgin, IL-IN</td>\n",
       "      <td>9262559</td>\n",
       "      <td>11.94</td>\n",
       "      <td>7.66</td>\n",
       "    </tr>\n",
       "    <tr>\n",
       "      <th>47</th>\n",
       "      <td>19100</td>\n",
       "      <td>Dallas-Fort Worth-Arlington, TX</td>\n",
       "      <td>8100037</td>\n",
       "      <td>10.20</td>\n",
       "      <td>6.63</td>\n",
       "    </tr>\n",
       "    <tr>\n",
       "      <th>50</th>\n",
       "      <td>26420</td>\n",
       "      <td>Houston-Pasadena-The Woodlands, TX</td>\n",
       "      <td>7510252</td>\n",
       "      <td>10.14</td>\n",
       "      <td>6.56</td>\n",
       "    </tr>\n",
       "    <tr>\n",
       "      <th>...</th>\n",
       "      <td>...</td>\n",
       "      <td>...</td>\n",
       "      <td>...</td>\n",
       "      <td>...</td>\n",
       "      <td>...</td>\n",
       "    </tr>\n",
       "    <tr>\n",
       "      <th>86</th>\n",
       "      <td>27140</td>\n",
       "      <td>Jackson, MS</td>\n",
       "      <td>609582</td>\n",
       "      <td>7.54</td>\n",
       "      <td>3.34</td>\n",
       "    </tr>\n",
       "    <tr>\n",
       "      <th>75</th>\n",
       "      <td>20500</td>\n",
       "      <td>Durham-Chapel Hill, NC</td>\n",
       "      <td>608879</td>\n",
       "      <td>8.95</td>\n",
       "      <td>3.83</td>\n",
       "    </tr>\n",
       "    <tr>\n",
       "      <th>45</th>\n",
       "      <td>45780</td>\n",
       "      <td>Toledo, OH</td>\n",
       "      <td>600141</td>\n",
       "      <td>10.29</td>\n",
       "      <td>5.13</td>\n",
       "    </tr>\n",
       "    <tr>\n",
       "      <th>24</th>\n",
       "      <td>35300</td>\n",
       "      <td>New Haven, CT</td>\n",
       "      <td>568158</td>\n",
       "      <td>11.23</td>\n",
       "      <td>5.12</td>\n",
       "    </tr>\n",
       "    <tr>\n",
       "      <th>41</th>\n",
       "      <td>44140</td>\n",
       "      <td>Springfield, MA</td>\n",
       "      <td>460291</td>\n",
       "      <td>10.43</td>\n",
       "      <td>4.66</td>\n",
       "    </tr>\n",
       "  </tbody>\n",
       "</table>\n",
       "<p>95 rows × 5 columns</p>\n",
       "</div>"
      ],
      "text/plain": [
       "    Location ID          Core Base Stastical Area_x  Final Total Population  \\\n",
       "6         35620  New York-Newark-Jersey City, NY-NJ                19498249   \n",
       "0         31080  Los Angeles-Long Beach-Anaheim, CA                12799100   \n",
       "14        16980     Chicago-Naperville-Elgin, IL-IN                 9262559   \n",
       "47        19100     Dallas-Fort Worth-Arlington, TX                 8100037   \n",
       "50        26420  Houston-Pasadena-The Woodlands, TX                 7510252   \n",
       "..          ...                                 ...                     ...   \n",
       "86        27140                         Jackson, MS                  609582   \n",
       "75        20500              Durham-Chapel Hill, NC                  608879   \n",
       "45        45780                          Toledo, OH                  600141   \n",
       "24        35300                       New Haven, CT                  568158   \n",
       "41        44140                     Springfield, MA                  460291   \n",
       "\n",
       "    National Walkability Index  Public Transportation Index  \n",
       "6                        12.58                         8.17  \n",
       "0                        13.48                         8.26  \n",
       "14                       11.94                         7.66  \n",
       "47                       10.20                         6.63  \n",
       "50                       10.14                         6.56  \n",
       "..                         ...                          ...  \n",
       "86                        7.54                         3.34  \n",
       "75                        8.95                         3.83  \n",
       "45                       10.29                         5.13  \n",
       "24                       11.23                         5.12  \n",
       "41                       10.43                         4.66  \n",
       "\n",
       "[95 rows x 5 columns]"
      ]
     },
     "execution_count": 8,
     "metadata": {},
     "output_type": "execute_result"
    }
   ],
   "source": [
    "import pandas as pd\n",
    "from scipy.stats import pearsonr, spearmanr\n",
    "#Lets see if a greater Total Population is related with walkability and better \n",
    "def insight2():\n",
    "    df = pd.read_csv(\"Merged_data.csv\")\n",
    "    # Pretty similar approach to the first indicator relationship\n",
    "    #I am going to perform the statistical comparison between the Number Of Population and the Walkability and Transportation Indeces.\n",
    "    # Walkability\n",
    "    #Creating the Dataframe\n",
    "    populationdf = df[[\"Location ID\",\"Core Base Stastical Area_x\",\"Final Total Population\",\"National Walkability Index\", \"Public Transportation Index\"]]\n",
    "    populationdf.sort_values(by=\"Final Total Population\", ascending= False, inplace=True)\n",
    "    populationdf.to_csv(\"Population_correlation.csv\")\n",
    "    #finding the correlation using Pandas\n",
    "    #POP vs Walk\n",
    "    correlations_walk = {\n",
    "    \"Pearson Correlation\": populationdf[\"Final Total Population\"].corr(populationdf[\"National Walkability Index\"], method=\"pearson\"),\n",
    "    \"Spearman Correlation\": populationdf[\"Final Total Population\"].corr(populationdf[\"National Walkability Index\"], method=\"spearman\"),\n",
    "    }\n",
    "    #Pop vs Transport\n",
    "    correlations_trans = {\n",
    "    \"Pearson Correlation\": populationdf[\"Final Total Population\"].corr(populationdf[\"Public Transportation Index\"], method=\"pearson\"),\n",
    "    \"Spearman Correlation\": populationdf[\"Final Total Population\"].corr(populationdf[\"Public Transportation Index\"], method=\"spearman\"),\n",
    "    }\n",
    "    print(\"Final Total Population vs. National Walkability Index:\")\n",
    "    print(correlations_walk)\n",
    "    print(\"Final Total Population vs. National Walkability Index:\")\n",
    "    print(correlations_trans)\n",
    "    return populationdf\n",
    "    \n",
    "\n",
    "    \n",
    "    \n",
    "  \n",
    "\n",
    "\n",
    "\n",
    "\n",
    "\n",
    "############ Function Call ############\n",
    "insight2()"
   ]
  },
  {
   "cell_type": "markdown",
   "metadata": {
    "id": "6QNP4yx2xHkT"
   },
   "source": [
    "## Insight 2 Explanation\n",
    "\n",
    "### Does the fact of a city being bigger implies that it would be more walkable and provide better public transportation access?\n",
    "In this insight, I investigated the potential correlation between a metropolitan area's population size and the primary indices used in this project. Using a methodology similar to the one employed in my earlier insights, I utilized pandas instead of scipy.\n",
    "\n",
    "The results revealed that the correlation between the Transportation Index and population size is not strong enough to consider population size a significant factor. When examining the relationship between the Walkability Index and population size, the correlation was even weaker. These findings indicate that a city's population size does not significantly influence its walkability or transportation access."
   ]
  },
  {
   "cell_type": "code",
   "execution_count": 9,
   "metadata": {
    "id": "LUWgj50BwwKN"
   },
   "outputs": [
    {
     "name": "stderr",
     "output_type": "stream",
     "text": [
      "/var/folders/0x/h5kq9h6n17v96z2zwdwrhg2c0000gn/T/ipykernel_3106/4240225345.py:17: FutureWarning: The default of observed=False is deprecated and will be changed to True in a future version of pandas. Pass observed=False to retain current behavior or observed=True to adopt the future default and silence this warning.\n",
      "  relationship_table = df.groupby(\"Index Quantile\")[[\"Income Inequality (Gini)\", \"Median Household Income\"]].mean()\n"
     ]
    },
    {
     "data": {
      "text/html": [
       "<div>\n",
       "<style scoped>\n",
       "    .dataframe tbody tr th:only-of-type {\n",
       "        vertical-align: middle;\n",
       "    }\n",
       "\n",
       "    .dataframe tbody tr th {\n",
       "        vertical-align: top;\n",
       "    }\n",
       "\n",
       "    .dataframe thead th {\n",
       "        text-align: right;\n",
       "    }\n",
       "</style>\n",
       "<table border=\"1\" class=\"dataframe\">\n",
       "  <thead>\n",
       "    <tr style=\"text-align: right;\">\n",
       "      <th></th>\n",
       "      <th>Income Inequality (Gini)</th>\n",
       "      <th>Median Household Income</th>\n",
       "    </tr>\n",
       "    <tr>\n",
       "      <th>Index Quantile</th>\n",
       "      <th></th>\n",
       "      <th></th>\n",
       "    </tr>\n",
       "  </thead>\n",
       "  <tbody>\n",
       "    <tr>\n",
       "      <th>(4.829, 7.11]</th>\n",
       "      <td>0.470292</td>\n",
       "      <td>72675.750000</td>\n",
       "    </tr>\n",
       "    <tr>\n",
       "      <th>(7.11, 7.82]</th>\n",
       "      <td>0.466163</td>\n",
       "      <td>75665.125000</td>\n",
       "    </tr>\n",
       "    <tr>\n",
       "      <th>(7.82, 8.8]</th>\n",
       "      <td>0.454204</td>\n",
       "      <td>82596.086957</td>\n",
       "    </tr>\n",
       "    <tr>\n",
       "      <th>(8.8, 10.87]</th>\n",
       "      <td>0.469054</td>\n",
       "      <td>93906.916667</td>\n",
       "    </tr>\n",
       "  </tbody>\n",
       "</table>\n",
       "</div>"
      ],
      "text/plain": [
       "                Income Inequality (Gini)  Median Household Income\n",
       "Index Quantile                                                   \n",
       "(4.829, 7.11]                   0.470292             72675.750000\n",
       "(7.11, 7.82]                    0.466163             75665.125000\n",
       "(7.82, 8.8]                     0.454204             82596.086957\n",
       "(8.8, 10.87]                    0.469054             93906.916667"
      ]
     },
     "execution_count": 9,
     "metadata": {},
     "output_type": "execute_result"
    }
   ],
   "source": [
    "#Let's see if the relationship between economic indicators, walkability and transportation\n",
    "def insight3():\n",
    "  \"\"\"\n",
    "  For the next parts of my analysis, I decided to average the indexes of both walkability and transportation in order to make the comparison easier\n",
    "    We got from insight 1 that access to public transportation its closely correlated with walkability so it makes sense to average out this indeces \n",
    "    if we want to compare them both. I will call the Index \"Agreggated Walkability and Public Transportation\"\n",
    "  \"\"\"\n",
    "  df = pd.read_csv(\"Merged_data.csv\")\n",
    "  #Creating the new index\n",
    "  df[\"Aggregated Walkability and Public Transportation\"] = (df[\"National Walkability Index\"] * 1/2 + df[\"Public Transportation Index\"] * 1/2)\n",
    "  df[\"Aggregated Walkability and Public Transportation\"] = df[\"Aggregated Walkability and Public Transportation\"].round(2)\n",
    "  df.to_csv(\"Merged_data.csv\", index= False)\n",
    "  #Now time to compare to our new index with Gini Coefficent (inequality) and Median Household Income\n",
    "  #I chose to do this by creatinf an aggregated relatinship table\n",
    "  #Defining the quantiles\n",
    "  df[\"Index Quantile\"] = pd.qcut(df[\"Aggregated Walkability and Public Transportation\"], q=4) # I dont really want to write this into my FILE\n",
    "  relationship_table = df.groupby(\"Index Quantile\")[[\"Income Inequality (Gini)\", \"Median Household Income\"]].mean()\n",
    "  relationship_table.to_csv(\"Economic Indicators Correlation.csv\")\n",
    "  return relationship_table\n",
    "\n",
    "  \n",
    "\n",
    "  \n",
    "\n",
    "  \n",
    "\n",
    "\n",
    "\n",
    "\n",
    "\n",
    "############ Function Call ############\n",
    "insight3()"
   ]
  },
  {
   "cell_type": "markdown",
   "metadata": {
    "id": "4Tv4xPG8xIIh"
   },
   "source": [
    "## Insight 3 Explanation\n",
    "### How are economic indicators related to the both Walkability and Transportation?\n",
    "For this analysis, I compared the Gini Coefficient, which measures income inequality, and the Median Household Income of the Core Base Statistical Areas (CBSAs) with an aggregated Walkability and Public Transportation index that I computed using Pandas. To better understand the relationships, I divided this new index into quantiles.\n",
    "\n",
    "The results revealed a direct relationship between Median Household Income and the aggregated index. This suggests that walkability and access to public transportation may influence income levels or vice versa. This relationship aligns with macroeconomic factors such as tax rates and local budgets, which are often linked to urban infrastructure development.\n",
    "\n",
    "On the other hand, there was no significant correlation between the aggregated index and income inequality, as the Gini Coefficient values remained consistent across different levels of walkability and transportation access. This finding challenges claims that walkable infrastructure and public transportation can significantly reduce income inequality.\n",
    "\n"
   ]
  },
  {
   "cell_type": "code",
   "execution_count": 10,
   "metadata": {
    "id": "-2YUtUESwwgv"
   },
   "outputs": [
    {
     "data": {
      "text/html": [
       "<div>\n",
       "<style scoped>\n",
       "    .dataframe tbody tr th:only-of-type {\n",
       "        vertical-align: middle;\n",
       "    }\n",
       "\n",
       "    .dataframe tbody tr th {\n",
       "        vertical-align: top;\n",
       "    }\n",
       "\n",
       "    .dataframe thead th {\n",
       "        text-align: right;\n",
       "    }\n",
       "</style>\n",
       "<table border=\"1\" class=\"dataframe\">\n",
       "  <thead>\n",
       "    <tr style=\"text-align: right;\">\n",
       "      <th></th>\n",
       "      <th>Indicator</th>\n",
       "      <th>Correlation</th>\n",
       "      <th>Mean Ratio</th>\n",
       "      <th>Ratio Std Dev</th>\n",
       "    </tr>\n",
       "  </thead>\n",
       "  <tbody>\n",
       "    <tr>\n",
       "      <th>0</th>\n",
       "      <td>Negative Human Development Indicators Index</td>\n",
       "      <td>-0.369</td>\n",
       "      <td>64.309</td>\n",
       "      <td>16.860</td>\n",
       "    </tr>\n",
       "    <tr>\n",
       "      <th>1</th>\n",
       "      <td>Positive Human Development Indicators Index</td>\n",
       "      <td>-0.282</td>\n",
       "      <td>15.557</td>\n",
       "      <td>2.926</td>\n",
       "    </tr>\n",
       "  </tbody>\n",
       "</table>\n",
       "</div>"
      ],
      "text/plain": [
       "                                     Indicator  Correlation  Mean Ratio  \\\n",
       "0  Negative Human Development Indicators Index       -0.369      64.309   \n",
       "1  Positive Human Development Indicators Index       -0.282      15.557   \n",
       "\n",
       "   Ratio Std Dev  \n",
       "0         16.860  \n",
       "1          2.926  "
      ]
     },
     "execution_count": 10,
     "metadata": {},
     "output_type": "execute_result"
    }
   ],
   "source": [
    "# Now I want to contrast quality of life vs my updated Aggregated Walkability and Public Transportation indicator\n",
    "def insight4():\n",
    "  df = pd.read_csv(\"Merged_data.csv\")\n",
    "  #There is positive and negative indicator human development I just aggregated them\n",
    "  df[\"Negative Human Development Indicators Index\"] = df[[\"Percent of Low Wage Workers\", \"Percentage of People in Poverty\", \"Percentage of Unemployed People\"]].mean(axis=1) \n",
    "  df[\"Positive Human Development Indicators Index\"] = df[[\"Percentage of People With Educational Attainment (HS+)\", \"Percentage of People with Health Insurance Coverage\",\"Percentage of People With Internet Access\"]].mean(axis=1)\n",
    "  df[\"Negative Human Development Indicators Index\"] = df[\"Negative Human Development Indicators Index\"].round(3)\n",
    "  df[\"Positive Human Development Indicators Index\"] = df[\"Positive Human Development Indicators Index\"].round(3)\n",
    "  df.to_csv('Merged_data.csv', index= False)\n",
    "  #Lets create a Table in order to compare the realationship of my Index with the negatve and positive indicators\n",
    "  metrics = []\n",
    "  # for loop in order to not the process twice\n",
    "  for indicator in [\"Negative Human Development Indicators Index\", \"Positive Human Development Indicators Index\"]:\n",
    "        correlation = df[\"Aggregated Walkability and Public Transportation\"].corr(df[indicator])\n",
    "        mean_ratio = (df[\"Aggregated Walkability and Public Transportation\"] / df[indicator]).mean() \n",
    "        std_ratio = (df[\"Aggregated Walkability and Public Transportation\"] / df[indicator]).std()\n",
    "        # used several statistical measurements.\n",
    "        metrics.append({\n",
    "            \"Indicator\": indicator,\n",
    "            \"Correlation\": round(correlation, 3),\n",
    "            \"Mean Ratio\": round(mean_ratio, 3),\n",
    "            \"Ratio Std Dev\": round(std_ratio, 3),\n",
    "        })\n",
    "\n",
    "    # Convert to a DataFrame for tabular output\n",
    "  comparison_df = pd.DataFrame(metrics)\n",
    "  return comparison_df\n",
    "\n",
    "\n",
    "\n",
    "\n",
    "\n",
    "\n",
    "############ Function Call ############\n",
    "insight4()"
   ]
  },
  {
   "cell_type": "markdown",
   "metadata": {},
   "source": [
    "## Insight 4 Explanation\n",
    "### Are quality of life measures impacted by Walkable Infrastructure and Public Transportation access?\n",
    "For this insigh, I looked at how Negative and Positive Human Development indicators relate to the Aggregated Walkability and Public Transportation Index I created. To measure this, I made two new indicators by averaging data from my main Pandas DataFrame that seemed to represent negative and positive development.\n",
    "\n",
    "The results were surprising. Both indicators showed weak correlations, with values around -0.2 and -0.3 for the positive ones, meaning there was only a small negative relationship. This challenged one of the main ideas of my project — that walkability and public transportation have a big impact on human development.\n",
    "\n",
    "On top of that, the data I used for the indicators had very high averages and large standard deviations. This makes me think they might not have been the best indicators to use for this analysis. These issues could explain why the results didn’t match my expectations, and they show that I might need better indicators to draw stronger conclusions."
   ]
  },
  {
   "cell_type": "code",
   "execution_count": 11,
   "metadata": {},
   "outputs": [
    {
     "name": "stdout",
     "output_type": "stream",
     "text": [
      "   State  Aggregated Walkability and Public Transportation\n",
      "0     AL                                          6.440000\n",
      "1     AR                                          6.480000\n",
      "2     AZ                                          8.555000\n",
      "3     CA                                          9.351000\n",
      "4     CO                                          9.265000\n",
      "5     CT                                          7.686667\n",
      "6     FL                                          8.038750\n",
      "7     GA                                          5.755000\n",
      "8     HI                                          9.150000\n",
      "9     IA                                          7.795000\n",
      "10    ID                                          8.060000\n",
      "11    IL                                          8.790000\n",
      "12    IN                                          8.196667\n",
      "13    KS                                          7.780000\n",
      "14    KY                                          7.590000\n",
      "15    LA                                          7.180000\n",
      "16    MA                                          8.300000\n",
      "17    MD                                          8.760000\n",
      "18    MI                                          7.035000\n",
      "19    MN                                          8.470000\n",
      "20    MO                                          7.760000\n",
      "21    MS                                          5.440000\n",
      "22    NC                                          6.226667\n",
      "23    NE                                          8.070000\n",
      "24    NH                                          9.440000\n",
      "25    NJ                                          9.600000\n",
      "26    NM                                          8.780000\n",
      "27    NV                                         10.000000\n",
      "28    NY                                          8.188000\n",
      "29    OH                                          7.332500\n",
      "30    OK                                          7.330000\n",
      "31    OR                                          9.670000\n",
      "32    PA                                          8.560000\n",
      "33    PR                                          5.910000\n",
      "34    RI                                          9.410000\n",
      "35    SC                                          5.910000\n",
      "36    TN                                          5.695000\n",
      "37    TX                                          7.870000\n",
      "38    UT                                          8.610000\n",
      "39    VA                                          7.235000\n",
      "40    WA                                          9.380000\n",
      "41    WI                                          8.313333\n"
     ]
    },
    {
     "data": {
      "text/html": [
       "<div>\n",
       "<style scoped>\n",
       "    .dataframe tbody tr th:only-of-type {\n",
       "        vertical-align: middle;\n",
       "    }\n",
       "\n",
       "    .dataframe tbody tr th {\n",
       "        vertical-align: top;\n",
       "    }\n",
       "\n",
       "    .dataframe thead th {\n",
       "        text-align: right;\n",
       "    }\n",
       "</style>\n",
       "<table border=\"1\" class=\"dataframe\">\n",
       "  <thead>\n",
       "    <tr style=\"text-align: right;\">\n",
       "      <th></th>\n",
       "      <th>Region</th>\n",
       "      <th>Aggregated Walkability and Public Transportation</th>\n",
       "    </tr>\n",
       "  </thead>\n",
       "  <tbody>\n",
       "    <tr>\n",
       "      <th>0</th>\n",
       "      <td>Midwest</td>\n",
       "      <td>7.896364</td>\n",
       "    </tr>\n",
       "    <tr>\n",
       "      <th>1</th>\n",
       "      <td>Northeast</td>\n",
       "      <td>8.480526</td>\n",
       "    </tr>\n",
       "    <tr>\n",
       "      <th>2</th>\n",
       "      <td>Other</td>\n",
       "      <td>5.910000</td>\n",
       "    </tr>\n",
       "    <tr>\n",
       "      <th>3</th>\n",
       "      <td>Southeast</td>\n",
       "      <td>6.716429</td>\n",
       "    </tr>\n",
       "    <tr>\n",
       "      <th>4</th>\n",
       "      <td>Southwest</td>\n",
       "      <td>7.757857</td>\n",
       "    </tr>\n",
       "    <tr>\n",
       "      <th>5</th>\n",
       "      <td>West</td>\n",
       "      <td>9.214762</td>\n",
       "    </tr>\n",
       "  </tbody>\n",
       "</table>\n",
       "</div>"
      ],
      "text/plain": [
       "      Region  Aggregated Walkability and Public Transportation\n",
       "0    Midwest                                          7.896364\n",
       "1  Northeast                                          8.480526\n",
       "2      Other                                          5.910000\n",
       "3  Southeast                                          6.716429\n",
       "4  Southwest                                          7.757857\n",
       "5       West                                          9.214762"
      ]
     },
     "execution_count": 11,
     "metadata": {},
     "output_type": "execute_result"
    }
   ],
   "source": [
    "#Geographical Analysis of my the Aggregated Walkability and Public Transporation Index.\n",
    "def insight5():\n",
    "    df = pd.read_csv('Merged_data.csv')\n",
    "    df['State'] = df['Core Base Stastical Area_x'].str.extract(r',\\s*([A-Z]{2}(?:-[A-Z]{2,})?)$')#complicated regex pattern to extract the state\n",
    "    state_to_region = {\n",
    "    'CA': 'West', 'NY': 'Northeast', 'UT': 'West', 'OR': 'West', 'WA': 'West',\n",
    "    'TX': 'Southwest', 'OK': 'Southwest', 'AZ': 'Southwest', 'NM': 'Southwest',\n",
    "    'FL': 'Southeast', 'GA': 'Southeast', 'AL': 'Southeast', 'MS': 'Southeast',\n",
    "    'TN': 'Southeast', 'KY': 'Southeast', 'NC': 'Southeast', 'SC': 'Southeast',\n",
    "    'VA': 'Southeast', 'WV': 'Southeast', 'PA': 'Northeast', 'NJ': 'Northeast',\n",
    "    'DE': 'Northeast', 'MD': 'Northeast', 'CT': 'Northeast', 'RI': 'Northeast',\n",
    "    'MA': 'Northeast', 'NH': 'Northeast', 'VT': 'Northeast', 'ME': 'Northeast',\n",
    "    'ND': 'Midwest', 'SD': 'Midwest', 'NE': 'Midwest', 'KS': 'Midwest',\n",
    "    'MN': 'Midwest', 'IA': 'Midwest', 'MO': 'Midwest', 'WI': 'Midwest',\n",
    "    'IL': 'Midwest', 'IN': 'Midwest', 'MI': 'Midwest', 'OH': 'Midwest',\n",
    "    'AK': 'West', 'HI': 'West', 'NV': 'West', 'ID': 'West', 'MT': 'West',\n",
    "    'WY': 'West', 'CO': 'West', 'AR': 'Southwest', 'LA': 'Southwest',\n",
    "    'VT': 'Northeast', 'DC': 'Northeast'\n",
    "    } #Dictionary to make the mapping proccess way easier.\n",
    "\n",
    "    #Function to handle multi states metropolitan areas(they are count for both)\n",
    "    def split_states(row):\n",
    "        if isinstance(row['State'], str):  \n",
    "            states = row['State'].split('-')  \n",
    "            return pd.DataFrame({'State': states, \n",
    "            'Region': [state_to_region.get(s, 'Other') for s in states],\n",
    "            'Aggregated Walkability and Public Transportation': \n",
    "            [row['Aggregated Walkability and Public Transportation']] * len(states)})\n",
    "        return None\n",
    "    #apply this function to the original Dataframe.\n",
    "    expandeDf = pd.concat(df.apply(split_states, axis=1).tolist(), ignore_index=True)\n",
    "    #Group By State\n",
    "    state_aggregated_df = expandeDf.groupby('State')['Aggregated Walkability and Public Transportation'].mean().reset_index()\n",
    "    region_aggregated_df = expandeDf.groupby('Region')['Aggregated Walkability and Public Transportation'].mean().reset_index()\n",
    "    state_aggregated_df.to_csv('State_analysis.csv')\n",
    "    region_aggregated_df.to_csv('Region_Analysis.csv')\n",
    "    print(state_aggregated_df)\n",
    "    return region_aggregated_df\n",
    "\n",
    "############ Function Call ############\n",
    "insight5()"
   ]
  },
  {
   "cell_type": "markdown",
   "metadata": {},
   "source": [
    "## Insight 5 Explanation \n",
    "### What is the geographic distribution of Walkability and Public Transportation accross the United States of America?\n",
    "For this insight, I used the Aggregated Walkability and Public Transportation Index I’ve been working with throughout the semester to analyze its averages across individual U.S. states and regions. To do this, I created a dictionary mapping each U.S. state to its corresponding geographic region and extracted the state information from the CBSAs we’ve been working with throughout the project.\n",
    "\n",
    "After extracting the states, I created aggregated DataFrames for both states and regions to simplify future visualizations. The results confirmed many common assumptions: the West Coast, often associated with progressive policies, showed high Walkability and Public Transportation Index scores, while the Southeast, known for being more car-centric, scored lower on these indices."
   ]
  },
  {
   "cell_type": "markdown",
   "metadata": {},
   "source": []
  },
  {
   "cell_type": "markdown",
   "metadata": {
    "id": "xN58r5MNxN4m"
   },
   "source": [
    "## Data Visualizations"
   ]
  },
  {
   "cell_type": "code",
   "execution_count": 12,
   "metadata": {
    "id": "stKXZGSnxS0f"
   },
   "outputs": [
    {
     "data": {
      "application/vnd.plotly.v1+json": {
       "config": {
        "plotlyServerURL": "https://plot.ly"
       },
       "data": [
        {
         "customdata": [
          [
           "Los Angeles-Long Beach-Anaheim, CA"
          ],
          [
           "San Jose-Sunnyvale-Santa Clara, CA"
          ],
          [
           "San Francisco-Oakland-Fremont, CA"
          ],
          [
           "Salt Lake City-Murray, UT"
          ],
          [
           "Portland-Vancouver-Hillsboro, OR-WA"
          ],
          [
           "Miami-Fort Lauderdale-West Palm Beach, FL"
          ],
          [
           "New York-Newark-Jersey City, NY-NJ"
          ],
          [
           "Philadelphia-Camden-Wilmington, PA-NJ-DE-MD"
          ],
          [
           "Providence-Warwick, RI-MA"
          ],
          [
           "San Diego-Chula Vista-Carlsbad, CA"
          ],
          [
           "Denver-Aurora-Centennial, CO"
          ],
          [
           "Boston-Cambridge-Newton, MA-NH"
          ],
          [
           "Urban Honolulu, HI"
          ],
          [
           "Las Vegas-Henderson-North Las Vegas, NV"
          ],
          [
           "Chicago-Naperville-Elgin, IL-IN"
          ],
          [
           "Seattle-Tacoma-Bellevue, WA"
          ],
          [
           "Sacramento-Roseville-Folsom, CA"
          ],
          [
           "Milwaukee-Waukesha, WI"
          ],
          [
           "Oxnard-Thousand Oaks-Ventura, CA"
          ],
          [
           "El Paso, TX"
          ],
          [
           "North Port-Bradenton-Sarasota, FL"
          ],
          [
           "Allentown-Bethlehem-Easton, PA-NJ"
          ],
          [
           "Buffalo-Cheektowaga, NY"
          ],
          [
           "Washington-Arlington-Alexandria, DC-VA-MD-WV"
          ],
          [
           "New Haven, CT"
          ],
          [
           "Albuquerque, NM"
          ],
          [
           "Fresno, CA"
          ],
          [
           "Ogden, UT"
          ],
          [
           "Baltimore-Columbia-Towson, MD"
          ],
          [
           "Stockton-Lodi, CA"
          ],
          [
           "Tampa-St. Petersburg-Clearwater, FL"
          ],
          [
           "Phoenix-Mesa-Chandler, AZ"
          ],
          [
           "Colorado Springs, CO"
          ],
          [
           "Minneapolis-St. Paul-Bloomington, MN-WI"
          ],
          [
           "Boise City, ID"
          ],
          [
           "Riverside-San Bernardino-Ontario, CA"
          ],
          [
           "Provo-Orem-Lehi, UT"
          ],
          [
           "Tucson, AZ"
          ],
          [
           "New Orleans-Metairie, LA"
          ],
          [
           "Pittsburgh, PA"
          ],
          [
           "San Antonio-New Braunfels, TX"
          ],
          [
           "Springfield, MA"
          ],
          [
           "Des Moines-West Des Moines, IA"
          ],
          [
           "Bridgeport-Stamford-Danbury, CT"
          ],
          [
           "Bakersfield-Delano, CA"
          ],
          [
           "Toledo, OH"
          ],
          [
           "Syracuse, NY"
          ],
          [
           "Dallas-Fort Worth-Arlington, TX"
          ],
          [
           "Orlando-Kissimmee-Sanford, FL"
          ],
          [
           "Jacksonville, FL"
          ],
          [
           "Houston-Pasadena-The Woodlands, TX"
          ],
          [
           "Virginia Beach-Chesapeake-Norfolk, VA-NC"
          ],
          [
           "St. Louis, MO-IL"
          ],
          [
           "Albany-Schenectady-Troy, NY"
          ],
          [
           "Deltona-Daytona Beach-Ormond Beach, FL"
          ],
          [
           "Madison, WI"
          ],
          [
           "Dayton-Kettering-Beavercreek, OH"
          ],
          [
           "Omaha, NE-IA"
          ],
          [
           "Wichita, KS"
          ],
          [
           "Kansas City, MO-KS"
          ],
          [
           "Hartford-West Hartford-East Hartford, CT"
          ],
          [
           "Louisville/Jefferson County, KY-IN"
          ],
          [
           "Rochester, NY"
          ],
          [
           "Austin-Round Rock-San Marcos, TX"
          ],
          [
           "Columbus, OH"
          ],
          [
           "Oklahoma City, OK"
          ],
          [
           "Memphis, TN-MS-AR"
          ],
          [
           "Cincinnati, OH-KY-IN"
          ],
          [
           "Tulsa, OK"
          ],
          [
           "Worcester, MA"
          ],
          [
           "Cape Coral-Fort Myers, FL"
          ],
          [
           "Indianapolis-Carmel-Greenwood, IN"
          ],
          [
           "Raleigh-Cary, NC"
          ],
          [
           "Charleston-North Charleston, SC"
          ],
          [
           "Detroit-Warren-Dearborn, MI"
          ],
          [
           "Durham-Chapel Hill, NC"
          ],
          [
           "Atlanta-Sandy Springs-Roswell, GA"
          ],
          [
           "Little Rock-North Little Rock-Conway, AR"
          ],
          [
           "Richmond, VA"
          ],
          [
           "Grand Rapids-Wyoming-Kentwood, MI"
          ],
          [
           "Birmingham, AL"
          ],
          [
           "Columbia, SC"
          ],
          [
           "Charlotte-Concord-Gastonia, NC-SC"
          ],
          [
           "Nashville-Davidson--Murfreesboro--Franklin, TN"
          ],
          [
           "Lakeland-Winter Haven, FL"
          ],
          [
           "Greenville-Anderson-Greer, SC"
          ],
          [
           "Jackson, MS"
          ],
          [
           "Akron, OH"
          ],
          [
           "McAllen-Edinburg-Mission, TX"
          ],
          [
           "Greensboro-High Point, NC"
          ],
          [
           "Knoxville, TN"
          ],
          [
           "Baton Rouge, LA"
          ],
          [
           "Winston-Salem, NC"
          ],
          [
           "Augusta-Richmond County, GA-SC"
          ],
          [
           "San Juan-Bayamón-Caguas, PR"
          ]
         ],
         "hovertemplate": "Walkability Index=%{x}<br>Transportation Index=%{y}<br>Core Base Stastical Area_x=%{customdata[0]}<extra></extra>",
         "legendgroup": "",
         "marker": {
          "color": "#636efa",
          "symbol": "circle"
         },
         "mode": "markers",
         "name": "",
         "orientation": "v",
         "showlegend": false,
         "type": "scatter",
         "x": [
          13.48,
          13.44,
          13.14,
          13.13,
          12.75,
          12.71,
          12.58,
          12.38,
          12.25,
          12.19,
          12.03,
          12.01,
          12,
          11.96,
          11.94,
          11.85,
          11.83,
          11.75,
          11.69,
          11.53,
          11.5,
          11.33,
          11.25,
          11.24,
          11.23,
          11.23,
          11.12,
          11.09,
          11.06,
          11.06,
          11.02,
          10.93,
          10.92,
          10.91,
          10.91,
          10.83,
          10.79,
          10.71,
          10.65,
          10.49,
          10.47,
          10.43,
          10.35,
          10.34,
          10.32,
          10.29,
          10.27,
          10.2,
          10.19,
          10.16,
          10.14,
          10.13,
          10.13,
          10.13,
          10.09,
          10.08,
          10.08,
          10.07,
          10.05,
          10.03,
          10.02,
          9.99,
          9.81,
          9.75,
          9.75,
          9.67,
          9.64,
          9.61,
          9.48,
          9.42,
          9.42,
          9.4,
          9.37,
          9.2,
          8.97,
          8.95,
          8.9,
          8.73,
          8.71,
          8.7,
          8.57,
          8.52,
          8.33,
          8.32,
          8.13,
          7.78,
          7.54,
          7.46,
          7.18,
          7.08,
          7.07,
          6.43,
          6.43,
          6.4,
          4.95
         ],
         "xaxis": "x",
         "y": [
          8.26,
          8.15,
          8.39,
          6.61,
          6.59,
          7.77,
          8.17,
          7.27,
          6.57,
          7.22,
          7.37,
          6.86,
          6.31,
          8.03,
          7.66,
          6.33,
          6.46,
          6.62,
          6.53,
          6.57,
          6.07,
          6.32,
          5.7,
          6.16,
          5.12,
          6.34,
          5.91,
          4.92,
          6.46,
          6.09,
          6.4,
          6.83,
          6.74,
          6.03,
          5.22,
          5.54,
          5.12,
          5.75,
          7.87,
          6.1,
          5.67,
          4.66,
          4.68,
          5.22,
          5.39,
          5.13,
          4.41,
          6.63,
          5.48,
          5.21,
          6.56,
          5.57,
          5.42,
          4.87,
          4.87,
          4.5,
          5.33,
          6.08,
          5.6,
          5.46,
          4.19,
          5.19,
          4.66,
          5.1,
          5.46,
          5.4,
          4.75,
          4.69,
          4.77,
          4.2,
          5.5,
          5.01,
          4.12,
          4.28,
          6.23,
          3.83,
          4.14,
          4.22,
          4.52,
          4.24,
          4.31,
          3.73,
          3.77,
          4.02,
          4.11,
          3.52,
          3.34,
          5.17,
          4.67,
          3.91,
          3.36,
          3.76,
          3.23,
          3.57,
          6.87
         ],
         "yaxis": "y"
        },
        {
         "hovertemplate": "<b>OLS trendline</b><br>Public Transportation Index = 0.578446 * National Walkability Index + -0.349871<br>R<sup>2</sup>=0.592077<br><br>Walkability Index=%{x}<br>Transportation Index=%{y} <b>(trend)</b><extra></extra>",
         "legendgroup": "",
         "marker": {
          "color": "#636efa",
          "symbol": "circle"
         },
         "mode": "lines",
         "name": "",
         "showlegend": false,
         "type": "scatter",
         "x": [
          4.95,
          6.4,
          6.43,
          6.43,
          7.07,
          7.08,
          7.18,
          7.46,
          7.54,
          7.78,
          8.13,
          8.32,
          8.33,
          8.52,
          8.57,
          8.7,
          8.71,
          8.73,
          8.9,
          8.95,
          8.97,
          9.2,
          9.37,
          9.4,
          9.42,
          9.42,
          9.48,
          9.61,
          9.64,
          9.67,
          9.75,
          9.75,
          9.81,
          9.99,
          10.02,
          10.03,
          10.05,
          10.07,
          10.08,
          10.08,
          10.09,
          10.13,
          10.13,
          10.13,
          10.14,
          10.16,
          10.19,
          10.2,
          10.27,
          10.29,
          10.32,
          10.34,
          10.35,
          10.43,
          10.47,
          10.49,
          10.65,
          10.71,
          10.79,
          10.83,
          10.91,
          10.91,
          10.92,
          10.93,
          11.02,
          11.06,
          11.06,
          11.09,
          11.12,
          11.23,
          11.23,
          11.24,
          11.25,
          11.33,
          11.5,
          11.53,
          11.69,
          11.75,
          11.83,
          11.85,
          11.94,
          11.96,
          12,
          12.01,
          12.03,
          12.19,
          12.25,
          12.38,
          12.58,
          12.71,
          12.75,
          13.13,
          13.14,
          13.44,
          13.48
         ],
         "xaxis": "x",
         "y": [
          2.513434816166691,
          3.3521810363859172,
          3.369534406459418,
          3.369534406459418,
          3.739739634694111,
          3.745524091385278,
          3.803368658296949,
          3.9653334456496268,
          4.011609099178964,
          4.150436059766974,
          4.352892043957821,
          4.462796721089996,
          4.468581177781163,
          4.578485854913337,
          4.6074081383691725,
          4.682606075354344,
          4.688390532045512,
          4.6999594454278455,
          4.798295209177686,
          4.827217492633521,
          4.838786406015855,
          4.9718289099126975,
          5.070164673662538,
          5.08751804373604,
          5.099086957118374,
          5.099086957118374,
          5.133793697265377,
          5.208991634250548,
          5.22634500432405,
          5.2436983743975505,
          5.289974027926887,
          5.289974027926887,
          5.32468076807389,
          5.428800988514897,
          5.446154358588398,
          5.451938815279565,
          5.4635077286619,
          5.475076642044234,
          5.480861098735401,
          5.480861098735401,
          5.486645555426568,
          5.5097833821912365,
          5.5097833821912365,
          5.5097833821912365,
          5.515567838882403,
          5.527136752264737,
          5.544490122338239,
          5.550274579029406,
          5.590765775867575,
          5.602334689249909,
          5.619688059323411,
          5.631256972705745,
          5.637041429396912,
          5.683317082926249,
          5.706454909690917,
          5.718023823073251,
          5.810575130131924,
          5.845281870278927,
          5.891557523808263,
          5.914695350572932,
          5.9609710041022685,
          5.9609710041022685,
          5.966755460793435,
          5.972539917484602,
          6.024600027705106,
          6.047737854469775,
          6.047737854469775,
          6.065091224543275,
          6.082444594616776,
          6.1460736182196145,
          6.1460736182196145,
          6.151858074910781,
          6.157642531601948,
          6.203918185131285,
          6.302253948881126,
          6.319607318954627,
          6.4121586260133,
          6.446865366160303,
          6.493141019689639,
          6.504709933071973,
          6.5567700432924765,
          6.568338956674811,
          6.59147678343948,
          6.5972612401306465,
          6.60883015351298,
          6.701381460571653,
          6.736088200718656,
          6.811286137703829,
          6.92697527152717,
          7.0021732085123425,
          7.02531103527701,
          7.245120389541359,
          7.250904846232526,
          7.424438546967538,
          7.447576373732207
         ],
         "yaxis": "y"
        }
       ],
       "layout": {
        "legend": {
         "tracegroupgap": 0
        },
        "plot_bgcolor": "lightgrey",
        "template": {
         "data": {
          "bar": [
           {
            "error_x": {
             "color": "#2a3f5f"
            },
            "error_y": {
             "color": "#2a3f5f"
            },
            "marker": {
             "line": {
              "color": "#E5ECF6",
              "width": 0.5
             },
             "pattern": {
              "fillmode": "overlay",
              "size": 10,
              "solidity": 0.2
             }
            },
            "type": "bar"
           }
          ],
          "barpolar": [
           {
            "marker": {
             "line": {
              "color": "#E5ECF6",
              "width": 0.5
             },
             "pattern": {
              "fillmode": "overlay",
              "size": 10,
              "solidity": 0.2
             }
            },
            "type": "barpolar"
           }
          ],
          "carpet": [
           {
            "aaxis": {
             "endlinecolor": "#2a3f5f",
             "gridcolor": "white",
             "linecolor": "white",
             "minorgridcolor": "white",
             "startlinecolor": "#2a3f5f"
            },
            "baxis": {
             "endlinecolor": "#2a3f5f",
             "gridcolor": "white",
             "linecolor": "white",
             "minorgridcolor": "white",
             "startlinecolor": "#2a3f5f"
            },
            "type": "carpet"
           }
          ],
          "choropleth": [
           {
            "colorbar": {
             "outlinewidth": 0,
             "ticks": ""
            },
            "type": "choropleth"
           }
          ],
          "contour": [
           {
            "colorbar": {
             "outlinewidth": 0,
             "ticks": ""
            },
            "colorscale": [
             [
              0,
              "#0d0887"
             ],
             [
              0.1111111111111111,
              "#46039f"
             ],
             [
              0.2222222222222222,
              "#7201a8"
             ],
             [
              0.3333333333333333,
              "#9c179e"
             ],
             [
              0.4444444444444444,
              "#bd3786"
             ],
             [
              0.5555555555555556,
              "#d8576b"
             ],
             [
              0.6666666666666666,
              "#ed7953"
             ],
             [
              0.7777777777777778,
              "#fb9f3a"
             ],
             [
              0.8888888888888888,
              "#fdca26"
             ],
             [
              1,
              "#f0f921"
             ]
            ],
            "type": "contour"
           }
          ],
          "contourcarpet": [
           {
            "colorbar": {
             "outlinewidth": 0,
             "ticks": ""
            },
            "type": "contourcarpet"
           }
          ],
          "heatmap": [
           {
            "colorbar": {
             "outlinewidth": 0,
             "ticks": ""
            },
            "colorscale": [
             [
              0,
              "#0d0887"
             ],
             [
              0.1111111111111111,
              "#46039f"
             ],
             [
              0.2222222222222222,
              "#7201a8"
             ],
             [
              0.3333333333333333,
              "#9c179e"
             ],
             [
              0.4444444444444444,
              "#bd3786"
             ],
             [
              0.5555555555555556,
              "#d8576b"
             ],
             [
              0.6666666666666666,
              "#ed7953"
             ],
             [
              0.7777777777777778,
              "#fb9f3a"
             ],
             [
              0.8888888888888888,
              "#fdca26"
             ],
             [
              1,
              "#f0f921"
             ]
            ],
            "type": "heatmap"
           }
          ],
          "heatmapgl": [
           {
            "colorbar": {
             "outlinewidth": 0,
             "ticks": ""
            },
            "colorscale": [
             [
              0,
              "#0d0887"
             ],
             [
              0.1111111111111111,
              "#46039f"
             ],
             [
              0.2222222222222222,
              "#7201a8"
             ],
             [
              0.3333333333333333,
              "#9c179e"
             ],
             [
              0.4444444444444444,
              "#bd3786"
             ],
             [
              0.5555555555555556,
              "#d8576b"
             ],
             [
              0.6666666666666666,
              "#ed7953"
             ],
             [
              0.7777777777777778,
              "#fb9f3a"
             ],
             [
              0.8888888888888888,
              "#fdca26"
             ],
             [
              1,
              "#f0f921"
             ]
            ],
            "type": "heatmapgl"
           }
          ],
          "histogram": [
           {
            "marker": {
             "pattern": {
              "fillmode": "overlay",
              "size": 10,
              "solidity": 0.2
             }
            },
            "type": "histogram"
           }
          ],
          "histogram2d": [
           {
            "colorbar": {
             "outlinewidth": 0,
             "ticks": ""
            },
            "colorscale": [
             [
              0,
              "#0d0887"
             ],
             [
              0.1111111111111111,
              "#46039f"
             ],
             [
              0.2222222222222222,
              "#7201a8"
             ],
             [
              0.3333333333333333,
              "#9c179e"
             ],
             [
              0.4444444444444444,
              "#bd3786"
             ],
             [
              0.5555555555555556,
              "#d8576b"
             ],
             [
              0.6666666666666666,
              "#ed7953"
             ],
             [
              0.7777777777777778,
              "#fb9f3a"
             ],
             [
              0.8888888888888888,
              "#fdca26"
             ],
             [
              1,
              "#f0f921"
             ]
            ],
            "type": "histogram2d"
           }
          ],
          "histogram2dcontour": [
           {
            "colorbar": {
             "outlinewidth": 0,
             "ticks": ""
            },
            "colorscale": [
             [
              0,
              "#0d0887"
             ],
             [
              0.1111111111111111,
              "#46039f"
             ],
             [
              0.2222222222222222,
              "#7201a8"
             ],
             [
              0.3333333333333333,
              "#9c179e"
             ],
             [
              0.4444444444444444,
              "#bd3786"
             ],
             [
              0.5555555555555556,
              "#d8576b"
             ],
             [
              0.6666666666666666,
              "#ed7953"
             ],
             [
              0.7777777777777778,
              "#fb9f3a"
             ],
             [
              0.8888888888888888,
              "#fdca26"
             ],
             [
              1,
              "#f0f921"
             ]
            ],
            "type": "histogram2dcontour"
           }
          ],
          "mesh3d": [
           {
            "colorbar": {
             "outlinewidth": 0,
             "ticks": ""
            },
            "type": "mesh3d"
           }
          ],
          "parcoords": [
           {
            "line": {
             "colorbar": {
              "outlinewidth": 0,
              "ticks": ""
             }
            },
            "type": "parcoords"
           }
          ],
          "pie": [
           {
            "automargin": true,
            "type": "pie"
           }
          ],
          "scatter": [
           {
            "fillpattern": {
             "fillmode": "overlay",
             "size": 10,
             "solidity": 0.2
            },
            "type": "scatter"
           }
          ],
          "scatter3d": [
           {
            "line": {
             "colorbar": {
              "outlinewidth": 0,
              "ticks": ""
             }
            },
            "marker": {
             "colorbar": {
              "outlinewidth": 0,
              "ticks": ""
             }
            },
            "type": "scatter3d"
           }
          ],
          "scattercarpet": [
           {
            "marker": {
             "colorbar": {
              "outlinewidth": 0,
              "ticks": ""
             }
            },
            "type": "scattercarpet"
           }
          ],
          "scattergeo": [
           {
            "marker": {
             "colorbar": {
              "outlinewidth": 0,
              "ticks": ""
             }
            },
            "type": "scattergeo"
           }
          ],
          "scattergl": [
           {
            "marker": {
             "colorbar": {
              "outlinewidth": 0,
              "ticks": ""
             }
            },
            "type": "scattergl"
           }
          ],
          "scattermapbox": [
           {
            "marker": {
             "colorbar": {
              "outlinewidth": 0,
              "ticks": ""
             }
            },
            "type": "scattermapbox"
           }
          ],
          "scatterpolar": [
           {
            "marker": {
             "colorbar": {
              "outlinewidth": 0,
              "ticks": ""
             }
            },
            "type": "scatterpolar"
           }
          ],
          "scatterpolargl": [
           {
            "marker": {
             "colorbar": {
              "outlinewidth": 0,
              "ticks": ""
             }
            },
            "type": "scatterpolargl"
           }
          ],
          "scatterternary": [
           {
            "marker": {
             "colorbar": {
              "outlinewidth": 0,
              "ticks": ""
             }
            },
            "type": "scatterternary"
           }
          ],
          "surface": [
           {
            "colorbar": {
             "outlinewidth": 0,
             "ticks": ""
            },
            "colorscale": [
             [
              0,
              "#0d0887"
             ],
             [
              0.1111111111111111,
              "#46039f"
             ],
             [
              0.2222222222222222,
              "#7201a8"
             ],
             [
              0.3333333333333333,
              "#9c179e"
             ],
             [
              0.4444444444444444,
              "#bd3786"
             ],
             [
              0.5555555555555556,
              "#d8576b"
             ],
             [
              0.6666666666666666,
              "#ed7953"
             ],
             [
              0.7777777777777778,
              "#fb9f3a"
             ],
             [
              0.8888888888888888,
              "#fdca26"
             ],
             [
              1,
              "#f0f921"
             ]
            ],
            "type": "surface"
           }
          ],
          "table": [
           {
            "cells": {
             "fill": {
              "color": "#EBF0F8"
             },
             "line": {
              "color": "white"
             }
            },
            "header": {
             "fill": {
              "color": "#C8D4E3"
             },
             "line": {
              "color": "white"
             }
            },
            "type": "table"
           }
          ]
         },
         "layout": {
          "annotationdefaults": {
           "arrowcolor": "#2a3f5f",
           "arrowhead": 0,
           "arrowwidth": 1
          },
          "autotypenumbers": "strict",
          "coloraxis": {
           "colorbar": {
            "outlinewidth": 0,
            "ticks": ""
           }
          },
          "colorscale": {
           "diverging": [
            [
             0,
             "#8e0152"
            ],
            [
             0.1,
             "#c51b7d"
            ],
            [
             0.2,
             "#de77ae"
            ],
            [
             0.3,
             "#f1b6da"
            ],
            [
             0.4,
             "#fde0ef"
            ],
            [
             0.5,
             "#f7f7f7"
            ],
            [
             0.6,
             "#e6f5d0"
            ],
            [
             0.7,
             "#b8e186"
            ],
            [
             0.8,
             "#7fbc41"
            ],
            [
             0.9,
             "#4d9221"
            ],
            [
             1,
             "#276419"
            ]
           ],
           "sequential": [
            [
             0,
             "#0d0887"
            ],
            [
             0.1111111111111111,
             "#46039f"
            ],
            [
             0.2222222222222222,
             "#7201a8"
            ],
            [
             0.3333333333333333,
             "#9c179e"
            ],
            [
             0.4444444444444444,
             "#bd3786"
            ],
            [
             0.5555555555555556,
             "#d8576b"
            ],
            [
             0.6666666666666666,
             "#ed7953"
            ],
            [
             0.7777777777777778,
             "#fb9f3a"
            ],
            [
             0.8888888888888888,
             "#fdca26"
            ],
            [
             1,
             "#f0f921"
            ]
           ],
           "sequentialminus": [
            [
             0,
             "#0d0887"
            ],
            [
             0.1111111111111111,
             "#46039f"
            ],
            [
             0.2222222222222222,
             "#7201a8"
            ],
            [
             0.3333333333333333,
             "#9c179e"
            ],
            [
             0.4444444444444444,
             "#bd3786"
            ],
            [
             0.5555555555555556,
             "#d8576b"
            ],
            [
             0.6666666666666666,
             "#ed7953"
            ],
            [
             0.7777777777777778,
             "#fb9f3a"
            ],
            [
             0.8888888888888888,
             "#fdca26"
            ],
            [
             1,
             "#f0f921"
            ]
           ]
          },
          "colorway": [
           "#636efa",
           "#EF553B",
           "#00cc96",
           "#ab63fa",
           "#FFA15A",
           "#19d3f3",
           "#FF6692",
           "#B6E880",
           "#FF97FF",
           "#FECB52"
          ],
          "font": {
           "color": "#2a3f5f"
          },
          "geo": {
           "bgcolor": "white",
           "lakecolor": "white",
           "landcolor": "#E5ECF6",
           "showlakes": true,
           "showland": true,
           "subunitcolor": "white"
          },
          "hoverlabel": {
           "align": "left"
          },
          "hovermode": "closest",
          "mapbox": {
           "style": "light"
          },
          "paper_bgcolor": "white",
          "plot_bgcolor": "#E5ECF6",
          "polar": {
           "angularaxis": {
            "gridcolor": "white",
            "linecolor": "white",
            "ticks": ""
           },
           "bgcolor": "#E5ECF6",
           "radialaxis": {
            "gridcolor": "white",
            "linecolor": "white",
            "ticks": ""
           }
          },
          "scene": {
           "xaxis": {
            "backgroundcolor": "#E5ECF6",
            "gridcolor": "white",
            "gridwidth": 2,
            "linecolor": "white",
            "showbackground": true,
            "ticks": "",
            "zerolinecolor": "white"
           },
           "yaxis": {
            "backgroundcolor": "#E5ECF6",
            "gridcolor": "white",
            "gridwidth": 2,
            "linecolor": "white",
            "showbackground": true,
            "ticks": "",
            "zerolinecolor": "white"
           },
           "zaxis": {
            "backgroundcolor": "#E5ECF6",
            "gridcolor": "white",
            "gridwidth": 2,
            "linecolor": "white",
            "showbackground": true,
            "ticks": "",
            "zerolinecolor": "white"
           }
          },
          "shapedefaults": {
           "line": {
            "color": "#2a3f5f"
           }
          },
          "ternary": {
           "aaxis": {
            "gridcolor": "white",
            "linecolor": "white",
            "ticks": ""
           },
           "baxis": {
            "gridcolor": "white",
            "linecolor": "white",
            "ticks": ""
           },
           "bgcolor": "#E5ECF6",
           "caxis": {
            "gridcolor": "white",
            "linecolor": "white",
            "ticks": ""
           }
          },
          "title": {
           "x": 0.05
          },
          "xaxis": {
           "automargin": true,
           "gridcolor": "white",
           "linecolor": "white",
           "ticks": "",
           "title": {
            "standoff": 15
           },
           "zerolinecolor": "white",
           "zerolinewidth": 2
          },
          "yaxis": {
           "automargin": true,
           "gridcolor": "white",
           "linecolor": "white",
           "ticks": "",
           "title": {
            "standoff": 15
           },
           "zerolinecolor": "white",
           "zerolinewidth": 2
          }
         }
        },
        "title": {
         "font": {
          "color": "black",
          "size": 20
         },
         "text": "Correlation between Walkability and Public Transportation (r = 0.77)",
         "x": 0.5
        },
        "xaxis": {
         "anchor": "y",
         "domain": [
          0,
          1
         ],
         "title": {
          "text": "Walkability Index"
         }
        },
        "yaxis": {
         "anchor": "x",
         "domain": [
          0,
          1
         ],
         "title": {
          "text": "Transportation Index"
         }
        }
       }
      }
     },
     "metadata": {},
     "output_type": "display_data"
    }
   ],
   "source": [
    "import plotly.express as px\n",
    "#Correlation between Public Trasportation Access and Walkability Indeces\n",
    "# Scatter Plot to highlight the perfectly linear relationship found.\n",
    "def visual1():\n",
    "    df = pd.read_csv(\"transportation_correlation.csv\")\n",
    "    correlation, _ = pearsonr(df[\"National Walkability Index\"], df[\"Public Transportation Index\"])\n",
    "    fig  = px.scatter(df, x =\"National Walkability Index\", y = \"Public Transportation Index\",\n",
    "                      title=f\"Correlation between Walkability and Public Transportation (r = {correlation:.2f})\",\n",
    "                      labels= {\"National Walkability Index\": \"Walkability Index\",\n",
    "                      \"Public Transportation Index\": \"Transportation Index\"},\n",
    "                       hover_data=[\"Core Base Stastical Area_x\"], trendline=\"ols\")\n",
    "    fig.update_layout(title = dict(font=dict(size=20, color=\"black\"), x=0.5),\n",
    "                      plot_bgcolor=\"lightgrey\")\n",
    "    fig.write_image(\"Transportationcorr.jpg\")\n",
    "    fig.show()\n",
    "\n",
    "\n",
    "\n",
    "############ Function Call ############\n",
    "visual1()"
   ]
  },
  {
   "cell_type": "markdown",
   "metadata": {
    "id": "-CDB8hXwxgSB"
   },
   "source": [
    "### Visualization 1 Explanation\n",
    "\n",
    "Derived from Insight 1, this scatter plot shows the strong correalation between the Transportation Index and Walkability Index solidifying the claim that they are closely correlated. This also justifies the creation of an aggregated index that measures both of them."
   ]
  },
  {
   "cell_type": "code",
   "execution_count": 13,
   "metadata": {
    "id": "vACib_mBxW0E"
   },
   "outputs": [
    {
     "data": {
      "image/png": "[encoded data removed]",
      "text/plain": [
       "<Figure size 800x600 with 2 Axes>"
      ]
     },
     "metadata": {},
     "output_type": "display_data"
    }
   ],
   "source": [
    "import seaborn as sns\n",
    "import matplotlib.pyplot as plt\n",
    "#HeatMap to see how correlated are The Aggregated Walkability and Transportation Index, Gini Coefficient and Median Household Income\n",
    "def visual2():\n",
    "  df = pd.read_csv(\"Economic Indicators Correlation.csv\")\n",
    "  df[\"Index Quantile\"] = df[\"Index Quantile\"].astype('category').cat.codes\n",
    "  correlation_matrix = df[[\"Index Quantile\",\"Income Inequality (Gini)\",\"Median Household Income\"]].corr()\n",
    "  plt.figure(figsize=(8, 6))\n",
    "  sns.heatmap(correlation_matrix, annot=True, cmap=\"coolwarm\", fmt=\".2f\")\n",
    "  plt.title(\"Correlation Heatmap\")\n",
    "  plt.savefig(\"Correlation_heatmap.jpg\")\n",
    "  plt.show()\n",
    "\n",
    "\n",
    "\n",
    "  \n",
    "  \n",
    "\n",
    "\n",
    "  \n",
    "\n",
    "\n",
    "\n",
    "\n",
    "\n",
    "############ Function Call ############\n",
    "visual2()"
   ]
  },
  {
   "cell_type": "markdown",
   "metadata": {
    "id": "hbq6zDSuxg3b"
   },
   "source": [
    "### Visualization 2 Explanation\n",
    "\n",
    "Derived from Insight 3, this heatmap shows the correlation between three indicators: Aggregated Walkability and Public Transportation, Median Household Income and Gini Coefficient. In this covariance matrix we can observe that both Aggregated Walkability and Public Transportation and Household Income are related with each other, however the Gini coefficient fails to be affected by these two factors."
   ]
  },
  {
   "cell_type": "code",
   "execution_count": 14,
   "metadata": {
    "id": "mOyKClx1xXOt"
   },
   "outputs": [
    {
     "data": {
      "application/vnd.plotly.v1+json": {
       "config": {
        "plotlyServerURL": "https://plot.ly"
       },
       "data": [
        {
         "coloraxis": "coloraxis",
         "geo": "geo",
         "hovertemplate": "State=%{location}<br>Aggregated Walkability and Public Transportation=%{z}<extra></extra>",
         "locationmode": "USA-states",
         "locations": [
          "AL",
          "AR",
          "AZ",
          "CA",
          "CO",
          "CT",
          "FL",
          "GA",
          "HI",
          "IA",
          "ID",
          "IL",
          "IN",
          "KS",
          "KY",
          "LA",
          "MA",
          "MD",
          "MI",
          "MN",
          "MO",
          "MS",
          "NC",
          "NE",
          "NH",
          "NJ",
          "NM",
          "NV",
          "NY",
          "OH",
          "OK",
          "OR",
          "PA",
          "PR",
          "RI",
          "SC",
          "TN",
          "TX",
          "UT",
          "VA",
          "WA",
          "WI"
         ],
         "name": "",
         "type": "choropleth",
         "z": [
          6.44,
          6.48,
          8.555,
          9.351,
          9.265,
          7.686666666666667,
          8.03875,
          5.755,
          9.15,
          7.795,
          8.06,
          8.790000000000001,
          8.196666666666667,
          7.78,
          7.59,
          7.18,
          8.3,
          8.76,
          7.035,
          8.47,
          7.76,
          5.44,
          6.226666666666667,
          8.07,
          9.44,
          9.6,
          8.78,
          10,
          8.187999999999999,
          7.3325,
          7.33,
          9.67,
          8.56,
          5.91,
          9.41,
          5.91,
          5.695,
          7.87,
          8.61,
          7.234999999999999,
          9.38,
          8.313333333333334
         ]
        }
       ],
       "layout": {
        "coloraxis": {
         "colorbar": {
          "title": {
           "text": "Walkability<br>& Transportation"
          }
         },
         "colorscale": [
          [
           0,
           "rgb(255,255,217)"
          ],
          [
           0.125,
           "rgb(237,248,177)"
          ],
          [
           0.25,
           "rgb(199,233,180)"
          ],
          [
           0.375,
           "rgb(127,205,187)"
          ],
          [
           0.5,
           "rgb(65,182,196)"
          ],
          [
           0.625,
           "rgb(29,145,192)"
          ],
          [
           0.75,
           "rgb(34,94,168)"
          ],
          [
           0.875,
           "rgb(37,52,148)"
          ],
          [
           1,
           "rgb(8,29,88)"
          ]
         ]
        },
        "geo": {
         "center": {},
         "domain": {
          "x": [
           0,
           1
          ],
          "y": [
           0,
           1
          ]
         },
         "scope": "usa"
        },
        "legend": {
         "tracegroupgap": 0
        },
        "template": {
         "data": {
          "bar": [
           {
            "error_x": {
             "color": "#2a3f5f"
            },
            "error_y": {
             "color": "#2a3f5f"
            },
            "marker": {
             "line": {
              "color": "#E5ECF6",
              "width": 0.5
             },
             "pattern": {
              "fillmode": "overlay",
              "size": 10,
              "solidity": 0.2
             }
            },
            "type": "bar"
           }
          ],
          "barpolar": [
           {
            "marker": {
             "line": {
              "color": "#E5ECF6",
              "width": 0.5
             },
             "pattern": {
              "fillmode": "overlay",
              "size": 10,
              "solidity": 0.2
             }
            },
            "type": "barpolar"
           }
          ],
          "carpet": [
           {
            "aaxis": {
             "endlinecolor": "#2a3f5f",
             "gridcolor": "white",
             "linecolor": "white",
             "minorgridcolor": "white",
             "startlinecolor": "#2a3f5f"
            },
            "baxis": {
             "endlinecolor": "#2a3f5f",
             "gridcolor": "white",
             "linecolor": "white",
             "minorgridcolor": "white",
             "startlinecolor": "#2a3f5f"
            },
            "type": "carpet"
           }
          ],
          "choropleth": [
           {
            "colorbar": {
             "outlinewidth": 0,
             "ticks": ""
            },
            "type": "choropleth"
           }
          ],
          "contour": [
           {
            "colorbar": {
             "outlinewidth": 0,
             "ticks": ""
            },
            "colorscale": [
             [
              0,
              "#0d0887"
             ],
             [
              0.1111111111111111,
              "#46039f"
             ],
             [
              0.2222222222222222,
              "#7201a8"
             ],
             [
              0.3333333333333333,
              "#9c179e"
             ],
             [
              0.4444444444444444,
              "#bd3786"
             ],
             [
              0.5555555555555556,
              "#d8576b"
             ],
             [
              0.6666666666666666,
              "#ed7953"
             ],
             [
              0.7777777777777778,
              "#fb9f3a"
             ],
             [
              0.8888888888888888,
              "#fdca26"
             ],
             [
              1,
              "#f0f921"
             ]
            ],
            "type": "contour"
           }
          ],
          "contourcarpet": [
           {
            "colorbar": {
             "outlinewidth": 0,
             "ticks": ""
            },
            "type": "contourcarpet"
           }
          ],
          "heatmap": [
           {
            "colorbar": {
             "outlinewidth": 0,
             "ticks": ""
            },
            "colorscale": [
             [
              0,
              "#0d0887"
             ],
             [
              0.1111111111111111,
              "#46039f"
             ],
             [
              0.2222222222222222,
              "#7201a8"
             ],
             [
              0.3333333333333333,
              "#9c179e"
             ],
             [
              0.4444444444444444,
              "#bd3786"
             ],
             [
              0.5555555555555556,
              "#d8576b"
             ],
             [
              0.6666666666666666,
              "#ed7953"
             ],
             [
              0.7777777777777778,
              "#fb9f3a"
             ],
             [
              0.8888888888888888,
              "#fdca26"
             ],
             [
              1,
              "#f0f921"
             ]
            ],
            "type": "heatmap"
           }
          ],
          "heatmapgl": [
           {
            "colorbar": {
             "outlinewidth": 0,
             "ticks": ""
            },
            "colorscale": [
             [
              0,
              "#0d0887"
             ],
             [
              0.1111111111111111,
              "#46039f"
             ],
             [
              0.2222222222222222,
              "#7201a8"
             ],
             [
              0.3333333333333333,
              "#9c179e"
             ],
             [
              0.4444444444444444,
              "#bd3786"
             ],
             [
              0.5555555555555556,
              "#d8576b"
             ],
             [
              0.6666666666666666,
              "#ed7953"
             ],
             [
              0.7777777777777778,
              "#fb9f3a"
             ],
             [
              0.8888888888888888,
              "#fdca26"
             ],
             [
              1,
              "#f0f921"
             ]
            ],
            "type": "heatmapgl"
           }
          ],
          "histogram": [
           {
            "marker": {
             "pattern": {
              "fillmode": "overlay",
              "size": 10,
              "solidity": 0.2
             }
            },
            "type": "histogram"
           }
          ],
          "histogram2d": [
           {
            "colorbar": {
             "outlinewidth": 0,
             "ticks": ""
            },
            "colorscale": [
             [
              0,
              "#0d0887"
             ],
             [
              0.1111111111111111,
              "#46039f"
             ],
             [
              0.2222222222222222,
              "#7201a8"
             ],
             [
              0.3333333333333333,
              "#9c179e"
             ],
             [
              0.4444444444444444,
              "#bd3786"
             ],
             [
              0.5555555555555556,
              "#d8576b"
             ],
             [
              0.6666666666666666,
              "#ed7953"
             ],
             [
              0.7777777777777778,
              "#fb9f3a"
             ],
             [
              0.8888888888888888,
              "#fdca26"
             ],
             [
              1,
              "#f0f921"
             ]
            ],
            "type": "histogram2d"
           }
          ],
          "histogram2dcontour": [
           {
            "colorbar": {
             "outlinewidth": 0,
             "ticks": ""
            },
            "colorscale": [
             [
              0,
              "#0d0887"
             ],
             [
              0.1111111111111111,
              "#46039f"
             ],
             [
              0.2222222222222222,
              "#7201a8"
             ],
             [
              0.3333333333333333,
              "#9c179e"
             ],
             [
              0.4444444444444444,
              "#bd3786"
             ],
             [
              0.5555555555555556,
              "#d8576b"
             ],
             [
              0.6666666666666666,
              "#ed7953"
             ],
             [
              0.7777777777777778,
              "#fb9f3a"
             ],
             [
              0.8888888888888888,
              "#fdca26"
             ],
             [
              1,
              "#f0f921"
             ]
            ],
            "type": "histogram2dcontour"
           }
          ],
          "mesh3d": [
           {
            "colorbar": {
             "outlinewidth": 0,
             "ticks": ""
            },
            "type": "mesh3d"
           }
          ],
          "parcoords": [
           {
            "line": {
             "colorbar": {
              "outlinewidth": 0,
              "ticks": ""
             }
            },
            "type": "parcoords"
           }
          ],
          "pie": [
           {
            "automargin": true,
            "type": "pie"
           }
          ],
          "scatter": [
           {
            "fillpattern": {
             "fillmode": "overlay",
             "size": 10,
             "solidity": 0.2
            },
            "type": "scatter"
           }
          ],
          "scatter3d": [
           {
            "line": {
             "colorbar": {
              "outlinewidth": 0,
              "ticks": ""
             }
            },
            "marker": {
             "colorbar": {
              "outlinewidth": 0,
              "ticks": ""
             }
            },
            "type": "scatter3d"
           }
          ],
          "scattercarpet": [
           {
            "marker": {
             "colorbar": {
              "outlinewidth": 0,
              "ticks": ""
             }
            },
            "type": "scattercarpet"
           }
          ],
          "scattergeo": [
           {
            "marker": {
             "colorbar": {
              "outlinewidth": 0,
              "ticks": ""
             }
            },
            "type": "scattergeo"
           }
          ],
          "scattergl": [
           {
            "marker": {
             "colorbar": {
              "outlinewidth": 0,
              "ticks": ""
             }
            },
            "type": "scattergl"
           }
          ],
          "scattermapbox": [
           {
            "marker": {
             "colorbar": {
              "outlinewidth": 0,
              "ticks": ""
             }
            },
            "type": "scattermapbox"
           }
          ],
          "scatterpolar": [
           {
            "marker": {
             "colorbar": {
              "outlinewidth": 0,
              "ticks": ""
             }
            },
            "type": "scatterpolar"
           }
          ],
          "scatterpolargl": [
           {
            "marker": {
             "colorbar": {
              "outlinewidth": 0,
              "ticks": ""
             }
            },
            "type": "scatterpolargl"
           }
          ],
          "scatterternary": [
           {
            "marker": {
             "colorbar": {
              "outlinewidth": 0,
              "ticks": ""
             }
            },
            "type": "scatterternary"
           }
          ],
          "surface": [
           {
            "colorbar": {
             "outlinewidth": 0,
             "ticks": ""
            },
            "colorscale": [
             [
              0,
              "#0d0887"
             ],
             [
              0.1111111111111111,
              "#46039f"
             ],
             [
              0.2222222222222222,
              "#7201a8"
             ],
             [
              0.3333333333333333,
              "#9c179e"
             ],
             [
              0.4444444444444444,
              "#bd3786"
             ],
             [
              0.5555555555555556,
              "#d8576b"
             ],
             [
              0.6666666666666666,
              "#ed7953"
             ],
             [
              0.7777777777777778,
              "#fb9f3a"
             ],
             [
              0.8888888888888888,
              "#fdca26"
             ],
             [
              1,
              "#f0f921"
             ]
            ],
            "type": "surface"
           }
          ],
          "table": [
           {
            "cells": {
             "fill": {
              "color": "#EBF0F8"
             },
             "line": {
              "color": "white"
             }
            },
            "header": {
             "fill": {
              "color": "#C8D4E3"
             },
             "line": {
              "color": "white"
             }
            },
            "type": "table"
           }
          ]
         },
         "layout": {
          "annotationdefaults": {
           "arrowcolor": "#2a3f5f",
           "arrowhead": 0,
           "arrowwidth": 1
          },
          "autotypenumbers": "strict",
          "coloraxis": {
           "colorbar": {
            "outlinewidth": 0,
            "ticks": ""
           }
          },
          "colorscale": {
           "diverging": [
            [
             0,
             "#8e0152"
            ],
            [
             0.1,
             "#c51b7d"
            ],
            [
             0.2,
             "#de77ae"
            ],
            [
             0.3,
             "#f1b6da"
            ],
            [
             0.4,
             "#fde0ef"
            ],
            [
             0.5,
             "#f7f7f7"
            ],
            [
             0.6,
             "#e6f5d0"
            ],
            [
             0.7,
             "#b8e186"
            ],
            [
             0.8,
             "#7fbc41"
            ],
            [
             0.9,
             "#4d9221"
            ],
            [
             1,
             "#276419"
            ]
           ],
           "sequential": [
            [
             0,
             "#0d0887"
            ],
            [
             0.1111111111111111,
             "#46039f"
            ],
            [
             0.2222222222222222,
             "#7201a8"
            ],
            [
             0.3333333333333333,
             "#9c179e"
            ],
            [
             0.4444444444444444,
             "#bd3786"
            ],
            [
             0.5555555555555556,
             "#d8576b"
            ],
            [
             0.6666666666666666,
             "#ed7953"
            ],
            [
             0.7777777777777778,
             "#fb9f3a"
            ],
            [
             0.8888888888888888,
             "#fdca26"
            ],
            [
             1,
             "#f0f921"
            ]
           ],
           "sequentialminus": [
            [
             0,
             "#0d0887"
            ],
            [
             0.1111111111111111,
             "#46039f"
            ],
            [
             0.2222222222222222,
             "#7201a8"
            ],
            [
             0.3333333333333333,
             "#9c179e"
            ],
            [
             0.4444444444444444,
             "#bd3786"
            ],
            [
             0.5555555555555556,
             "#d8576b"
            ],
            [
             0.6666666666666666,
             "#ed7953"
            ],
            [
             0.7777777777777778,
             "#fb9f3a"
            ],
            [
             0.8888888888888888,
             "#fdca26"
            ],
            [
             1,
             "#f0f921"
            ]
           ]
          },
          "colorway": [
           "#636efa",
           "#EF553B",
           "#00cc96",
           "#ab63fa",
           "#FFA15A",
           "#19d3f3",
           "#FF6692",
           "#B6E880",
           "#FF97FF",
           "#FECB52"
          ],
          "font": {
           "color": "#2a3f5f"
          },
          "geo": {
           "bgcolor": "white",
           "lakecolor": "white",
           "landcolor": "#E5ECF6",
           "showlakes": true,
           "showland": true,
           "subunitcolor": "white"
          },
          "hoverlabel": {
           "align": "left"
          },
          "hovermode": "closest",
          "mapbox": {
           "style": "light"
          },
          "paper_bgcolor": "white",
          "plot_bgcolor": "#E5ECF6",
          "polar": {
           "angularaxis": {
            "gridcolor": "white",
            "linecolor": "white",
            "ticks": ""
           },
           "bgcolor": "#E5ECF6",
           "radialaxis": {
            "gridcolor": "white",
            "linecolor": "white",
            "ticks": ""
           }
          },
          "scene": {
           "xaxis": {
            "backgroundcolor": "#E5ECF6",
            "gridcolor": "white",
            "gridwidth": 2,
            "linecolor": "white",
            "showbackground": true,
            "ticks": "",
            "zerolinecolor": "white"
           },
           "yaxis": {
            "backgroundcolor": "#E5ECF6",
            "gridcolor": "white",
            "gridwidth": 2,
            "linecolor": "white",
            "showbackground": true,
            "ticks": "",
            "zerolinecolor": "white"
           },
           "zaxis": {
            "backgroundcolor": "#E5ECF6",
            "gridcolor": "white",
            "gridwidth": 2,
            "linecolor": "white",
            "showbackground": true,
            "ticks": "",
            "zerolinecolor": "white"
           }
          },
          "shapedefaults": {
           "line": {
            "color": "#2a3f5f"
           }
          },
          "ternary": {
           "aaxis": {
            "gridcolor": "white",
            "linecolor": "white",
            "ticks": ""
           },
           "baxis": {
            "gridcolor": "white",
            "linecolor": "white",
            "ticks": ""
           },
           "bgcolor": "#E5ECF6",
           "caxis": {
            "gridcolor": "white",
            "linecolor": "white",
            "ticks": ""
           }
          },
          "title": {
           "x": 0.05
          },
          "xaxis": {
           "automargin": true,
           "gridcolor": "white",
           "linecolor": "white",
           "ticks": "",
           "title": {
            "standoff": 15
           },
           "zerolinecolor": "white",
           "zerolinewidth": 2
          },
          "yaxis": {
           "automargin": true,
           "gridcolor": "white",
           "linecolor": "white",
           "ticks": "",
           "title": {
            "standoff": 15
           },
           "zerolinecolor": "white",
           "zerolinewidth": 2
          }
         }
        },
        "title": {
         "font": {
          "color": "black",
          "size": 20
         },
         "text": "Aggregated Walkability and Public Transportation Across States",
         "x": 0.5
        }
       }
      }
     },
     "metadata": {},
     "output_type": "display_data"
    }
   ],
   "source": [
    "def visual3():\n",
    "  df = pd.read_csv(\"State_analysis.csv\")\n",
    "  fig = px.choropleth(df, locations=\"State\", locationmode=\"USA-states\", color=\"Aggregated Walkability and Public Transportation\",\n",
    "         color_continuous_scale=\"YlGnBu\", scope=\"usa\", title=\"Aggregated Walkability and Public Transportation Across States\")\n",
    "  fig.update_layout(title=dict(font=dict(size=20, color=\"black\"), x= 0.5), \n",
    "                    coloraxis_colorbar= dict(title = \"Walkability<br>& Transportation\"))\n",
    "  fig.write_image(\"Map.jpg\")\n",
    "  fig.show()\n",
    "  \n",
    "\n",
    "\n",
    "\n",
    "\n",
    "\n",
    "############ Function Call ############\n",
    "visual3()"
   ]
  },
  {
   "cell_type": "markdown",
   "metadata": {
    "id": "YLZvX6Plxhhs"
   },
   "source": [
    "### Visualization 3 Explanation\n",
    "Derived from Insight 5, this visual captures geographic trends through the United States regarding Walkability and Public Transportation, confirming certain trends and assumptions.\n",
    "\n"
   ]
  },
  {
   "cell_type": "markdown",
   "metadata": {},
   "source": []
  },
  {
   "cell_type": "markdown",
   "metadata": {
    "id": "kd74HqEPx8zh"
   },
   "source": [
    "# Cited Sources\n",
    "\n",
    "If you used any additional sources to complete your Data Analysis section, list them here:<br>\n",
    "https://www.youtube.com/watch?v=o7VCeCxHCTI I used this video in order to inform myself on how to do the scipy calculations.\n",
    "\n",
    "\n",
    "*   Example Module Documentation\n",
    "*   Example Stack Overflow Assistance\n",
    "\n"
   ]
  },
  {
   "cell_type": "markdown",
   "metadata": {
    "id": "iuYbFQplyXK2"
   },
   "source": [
    "# Graphical User Interface (GUI) Implementation\n",
    "If you decide to create a GUI for Phase II, please create a separate Python file (.py) to build your GUI. You must submit both the completed PhaseII.ipynb and your Python GUI file."
   ]
  },
  {
   "cell_type": "markdown",
   "metadata": {
    "id": "mZENd-i9cinj"
   },
   "source": [
    "# Submission\n",
    "\n",
    "Prior to submitting your notebook to Gradescope, be sure to <b>run all functions within this file</b>. We will not run your functions ourselves, so we must see your outputs within this file in order to receive full credit.\n"
   ]
  }
 ],
 "metadata": {
  "colab": {
   "collapsed_sections": [],
   "name": "PhaseIII.ipynb",
   "provenance": []
  },
  "kernelspec": {
   "display_name": "base",
   "language": "python",
   "name": "python3"
  },
  "language_info": {
   "codemirror_mode": {
    "name": "ipython",
    "version": 3
   },
   "file_extension": ".py",
   "mimetype": "text/x-python",
   "name": "python",
   "nbconvert_exporter": "python",
   "pygments_lexer": "ipython3",
   "version": "3.12.2"
  }
 },
 "nbformat": 4,
 "nbformat_minor": 1
}
